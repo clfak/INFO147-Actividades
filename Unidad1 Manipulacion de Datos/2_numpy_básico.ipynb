{
 "cells": [
  {
   "cell_type": "code",
   "execution_count": 1,
   "metadata": {},
   "outputs": [],
   "source": [
    "import numpy as np"
   ]
  },
  {
   "cell_type": "markdown",
   "metadata": {},
   "source": [
    "**Creación y manipulación de arreglos**\n",
    "\n",
    "Cree el siguiente arreglo usando funciones de NumPy\n",
    "\n",
    "```\n",
    "[[1,  6, 11],\n",
    " [2,  7, 12],\n",
    " [3,  8, 13],\n",
    " [4,  9, 14],\n",
    " [5, 10, 15]]\n",
    "```"
   ]
  },
  {
   "cell_type": "code",
   "execution_count": 2,
   "metadata": {},
   "outputs": [
    {
     "data": {
      "text/plain": [
       "array([ 1,  2,  3,  4,  5,  6,  7,  8,  9, 10, 11, 12, 13, 14, 15])"
      ]
     },
     "metadata": {},
     "output_type": "display_data"
    },
    {
     "data": {
      "text/plain": [
       "array([[ 1,  2,  3,  4,  5],\n",
       "       [ 6,  7,  8,  9, 10],\n",
       "       [11, 12, 13, 14, 15]])"
      ]
     },
     "metadata": {},
     "output_type": "display_data"
    },
    {
     "data": {
      "text/plain": [
       "array([[ 1,  6, 11],\n",
       "       [ 2,  7, 12],\n",
       "       [ 3,  8, 13],\n",
       "       [ 4,  9, 14],\n",
       "       [ 5, 10, 15]])"
      ]
     },
     "metadata": {},
     "output_type": "display_data"
    }
   ],
   "source": [
    "A = np.arange(1,16,step=1)\n",
    "display(A)\n",
    "display(A.reshape(3,5))\n",
    "display(A.reshape(3,5).T)"
   ]
  },
  {
   "cell_type": "markdown",
   "metadata": {},
   "source": [
    "Considere la siguiente operación"
   ]
  },
  {
   "cell_type": "code",
   "execution_count": 3,
   "metadata": {},
   "outputs": [
    {
     "name": "stdout",
     "output_type": "stream",
     "text": [
      "4999950000\n"
     ]
    }
   ],
   "source": [
    "numeros = range(100000) \n",
    "print(sum(numeros))"
   ]
  },
  {
   "cell_type": "markdown",
   "metadata": {},
   "source": [
    "Escriba una versión equivalente usando NumPy (bonus: compare los tiempos de cómputo usando `%timeit`)"
   ]
  },
  {
   "cell_type": "code",
   "execution_count": 4,
   "metadata": {
    "scrolled": true
   },
   "outputs": [
    {
     "name": "stdout",
     "output_type": "stream",
     "text": [
      "4999950000\n",
      "2.83 ms ± 269 µs per loop (mean ± std. dev. of 10 runs, 10 loops each)\n",
      "The slowest run took 5.62 times longer than the fastest. This could mean that an intermediate result is being cached.\n",
      "194 µs ± 150 µs per loop (mean ± std. dev. of 10 runs, 10 loops each)\n"
     ]
    }
   ],
   "source": [
    "numeros2 = np.arange(100000)\n",
    "print(np.sum(numeros2))\n",
    "%timeit -n10 -r10 sum(numeros)\n",
    "%timeit -n10 -r10 np.sum(numeros2)"
   ]
  },
  {
   "cell_type": "markdown",
   "metadata": {},
   "source": [
    "**Slicing y reducciones**"
   ]
  },
  {
   "cell_type": "markdown",
   "metadata": {},
   "source": [
    "Sea el siguiente arreglo de valores numéricos"
   ]
  },
  {
   "cell_type": "code",
   "execution_count": 5,
   "metadata": {},
   "outputs": [],
   "source": [
    "np.random.seed(12345)\n",
    "data = np.random.randn(20, 10)"
   ]
  },
  {
   "cell_type": "markdown",
   "metadata": {},
   "source": [
    "Retorne los elementos pares de la tercera fila"
   ]
  },
  {
   "cell_type": "code",
   "execution_count": 6,
   "metadata": {},
   "outputs": [
    {
     "data": {
      "text/plain": [
       "array([-5.39741446e-01,  3.24894392e+00, -5.77087303e-01,  3.02613562e-01,\n",
       "        9.40277775e-04])"
      ]
     },
     "execution_count": 6,
     "metadata": {},
     "output_type": "execute_result"
    }
   ],
   "source": [
    "data[2, ::2]\n",
    "#Impares[2,1::2] de dos en dos pero partir en 1"
   ]
  },
  {
   "cell_type": "markdown",
   "metadata": {},
   "source": [
    "R: [-5.39741446e-01,  3.24894392e+00, -5.77087303e-01,  3.02613562e-01, 9.40277775e-04]"
   ]
  },
  {
   "cell_type": "markdown",
   "metadata": {},
   "source": [
    "Sume las columnas pares"
   ]
  },
  {
   "cell_type": "code",
   "execution_count": 7,
   "metadata": {
    "scrolled": true
   },
   "outputs": [
    {
     "data": {
      "text/plain": [
       "array([-9.61667537,  2.43997662,  4.0283355 , -6.50295515,  6.05821204])"
      ]
     },
     "execution_count": 7,
     "metadata": {},
     "output_type": "execute_result"
    }
   ],
   "source": [
    "np.sum(data[:,::2], axis = 0)"
   ]
  },
  {
   "cell_type": "markdown",
   "metadata": {},
   "source": [
    "R: array([-9.61667537,  2.43997662,  4.0283355 , -6.50295515,  6.05821204])"
   ]
  },
  {
   "cell_type": "markdown",
   "metadata": {},
   "source": [
    "Encuentre el valor del máximo y su ubicación dentro de la matriz"
   ]
  },
  {
   "cell_type": "code",
   "execution_count": 8,
   "metadata": {},
   "outputs": [
    {
     "name": "stdout",
     "output_type": "stream",
     "text": [
      "3.248943919430755\n"
     ]
    },
    {
     "data": {
      "text/plain": [
       "array([17,  9,  2, 16,  0,  8, 13, 16, 16, 10])"
      ]
     },
     "metadata": {},
     "output_type": "display_data"
    },
    {
     "data": {
      "text/plain": [
       "array([2.22465959, 2.16946144, 3.24894392, 2.06870785, 1.96578057,\n",
       "       1.82487521, 1.30671972, 1.22738699, 1.92078426, 1.58170009])"
      ]
     },
     "metadata": {},
     "output_type": "display_data"
    },
    {
     "name": "stdout",
     "output_type": "stream",
     "text": [
      "2 2\n"
     ]
    },
    {
     "data": {
      "text/plain": [
       "3.248943919430755"
      ]
     },
     "execution_count": 8,
     "metadata": {},
     "output_type": "execute_result"
    }
   ],
   "source": [
    "print(np.amax(data))\n",
    "max_por_columna= np.argmax(data, axis =0)\n",
    "display(max_por_columna)\n",
    "display(data[max_por_columna, range(10)])\n",
    "max_max = np.argmax(data[max_por_columna,range(10)])\n",
    "print(max_por_columna[max_max],max_max)\n",
    "data[max_por_columna[max_max],max_max]\n"
   ]
  },
  {
   "cell_type": "code",
   "execution_count": 9,
   "metadata": {},
   "outputs": [
    {
     "data": {
      "text/plain": [
       "3.248943919430755"
      ]
     },
     "metadata": {},
     "output_type": "display_data"
    },
    {
     "data": {
      "text/plain": [
       "(2, 2)"
      ]
     },
     "metadata": {},
     "output_type": "display_data"
    }
   ],
   "source": [
    "#Version corta:\n",
    "display(np.amax(data))\n",
    "display(np.unravel_index(np.argmax(data),data.shape))\n"
   ]
  },
  {
   "cell_type": "markdown",
   "metadata": {},
   "source": [
    "R: El valor del máximo es 3.248943919430755, está en la fila 2, columna 2"
   ]
  },
  {
   "cell_type": "markdown",
   "metadata": {},
   "source": [
    "**Broadcasting**"
   ]
  },
  {
   "cell_type": "markdown",
   "metadata": {},
   "source": [
    "Sea los vectores $A \\in \\mathbb{R}^{10}$ y $B \\in \\mathbb{R}^{6}$. Construya una matriz de tamaño $10 \\times 6$ que contenga las diferencias cuadradas entre los elementos de $A$ y $B$. Luego encuentre el elemento de A y el elemento de B que tienen la diferencia cuadrada más grande\n",
    "\n",
    "Prohibido usar `for`"
   ]
  },
  {
   "cell_type": "code",
   "execution_count": 10,
   "metadata": {},
   "outputs": [],
   "source": [
    "np.random.seed(12345)\n",
    "A = np.random.randn(10)\n",
    "B = np.random.randn(6)"
   ]
  },
  {
   "cell_type": "code",
   "execution_count": 11,
   "metadata": {},
   "outputs": [
    {
     "data": {
      "text/plain": [
       "(10, 6)"
      ]
     },
     "metadata": {},
     "output_type": "display_data"
    },
    {
     "data": {
      "text/plain": [
       "10.640654970858941"
      ]
     },
     "metadata": {},
     "output_type": "display_data"
    },
    {
     "data": {
      "text/plain": [
       "(4, 1)"
      ]
     },
     "metadata": {},
     "output_type": "display_data"
    }
   ],
   "source": [
    "C = (A.reshape(-1,1) -B.reshape(1,-1))**2\n",
    "display(C.shape)\n",
    "display(np.amax(C))\n",
    "display(np.unravel_index(np.argmax(C),C.shape))"
   ]
  },
  {
   "cell_type": "markdown",
   "metadata": {},
   "source": [
    "R: El elemento 4 de A y el elemento 1 de B tienen una diferencia cuadrada de 10.640654970858941"
   ]
  },
  {
   "cell_type": "markdown",
   "metadata": {},
   "source": [
    "**Fractal de Mandelbrot**\n",
    "\n",
    "El [set de Mandelbrot](https://en.wikipedia.org/wiki/Mandelbrot_set) es un conjunto de números complejos para las cuales la siguiente iteración\n",
    "\n",
    "$$\n",
    "z_{i+1} = z_i^2 + c \n",
    "$$\n",
    "\n",
    "no diverge, es decir aquellos que cumplen\n",
    "\n",
    "$$\n",
    "z_{N} < \\infty\n",
    "$$\n",
    "\n",
    "Considerando $N = 1000$, calcule y muestre el fractal de Mandelbrot. A continuación se entregan instrucciones detalladas para construir el fractal\n",
    "\n",
    "- Cree un arreglo de valores $x$ con $2000$ elementos en el rango $[-2, 1]$\n",
    "- Cree un arreglo de valores $y$ con $2000$ elementos en el rango $[-1.5, 1.5]$\n",
    "- Cree una grilla bidimensional en base a $x$ e $y$ usando `np.meshgrid`\n",
    "- Cree una matriz de números complejos $c = x + 1j*y$\n",
    "- Realice la iteración para cada elemento de la matriz partiendo con $z_{0} = 0$\n",
    "- Encuentre los $z_{N}$ que no divergen usando `np.isnan()`\n"
   ]
  },
  {
   "cell_type": "code",
   "execution_count": 12,
   "metadata": {},
   "outputs": [
    {
     "name": "stderr",
     "output_type": "stream",
     "text": [
      "/home/hp/anaconda3/lib/python3.7/site-packages/ipykernel_launcher.py:7: RuntimeWarning: overflow encountered in square\n",
      "  import sys\n",
      "/home/hp/anaconda3/lib/python3.7/site-packages/ipykernel_launcher.py:7: RuntimeWarning: invalid value encountered in square\n",
      "  import sys\n"
     ]
    }
   ],
   "source": [
    "x = np.linspace(-2,1,2000)\n",
    "y = np.linspace(-1.5,1.5, 2000)\n",
    "X, Y = np.meshgrid(x,y)\n",
    "C = X + 1j*Y\n",
    "Z = np.zeros_like(C)\n",
    "for i in range(1000):\n",
    "    Z = Z**2+C\n",
    "FRACTAL = np.isnan(Z)"
   ]
  },
  {
   "cell_type": "markdown",
   "metadata": {},
   "source": [
    "Una vez calculado puede visualizar el fractal usando:"
   ]
  },
  {
   "cell_type": "code",
   "execution_count": 13,
   "metadata": {},
   "outputs": [
    {
     "data": {
      "application/javascript": [
       "/* Put everything inside the global mpl namespace */\n",
       "window.mpl = {};\n",
       "\n",
       "\n",
       "mpl.get_websocket_type = function() {\n",
       "    if (typeof(WebSocket) !== 'undefined') {\n",
       "        return WebSocket;\n",
       "    } else if (typeof(MozWebSocket) !== 'undefined') {\n",
       "        return MozWebSocket;\n",
       "    } else {\n",
       "        alert('Your browser does not have WebSocket support. ' +\n",
       "              'Please try Chrome, Safari or Firefox ≥ 6. ' +\n",
       "              'Firefox 4 and 5 are also supported but you ' +\n",
       "              'have to enable WebSockets in about:config.');\n",
       "    };\n",
       "}\n",
       "\n",
       "mpl.figure = function(figure_id, websocket, ondownload, parent_element) {\n",
       "    this.id = figure_id;\n",
       "\n",
       "    this.ws = websocket;\n",
       "\n",
       "    this.supports_binary = (this.ws.binaryType != undefined);\n",
       "\n",
       "    if (!this.supports_binary) {\n",
       "        var warnings = document.getElementById(\"mpl-warnings\");\n",
       "        if (warnings) {\n",
       "            warnings.style.display = 'block';\n",
       "            warnings.textContent = (\n",
       "                \"This browser does not support binary websocket messages. \" +\n",
       "                    \"Performance may be slow.\");\n",
       "        }\n",
       "    }\n",
       "\n",
       "    this.imageObj = new Image();\n",
       "\n",
       "    this.context = undefined;\n",
       "    this.message = undefined;\n",
       "    this.canvas = undefined;\n",
       "    this.rubberband_canvas = undefined;\n",
       "    this.rubberband_context = undefined;\n",
       "    this.format_dropdown = undefined;\n",
       "\n",
       "    this.image_mode = 'full';\n",
       "\n",
       "    this.root = $('<div/>');\n",
       "    this._root_extra_style(this.root)\n",
       "    this.root.attr('style', 'display: inline-block');\n",
       "\n",
       "    $(parent_element).append(this.root);\n",
       "\n",
       "    this._init_header(this);\n",
       "    this._init_canvas(this);\n",
       "    this._init_toolbar(this);\n",
       "\n",
       "    var fig = this;\n",
       "\n",
       "    this.waiting = false;\n",
       "\n",
       "    this.ws.onopen =  function () {\n",
       "            fig.send_message(\"supports_binary\", {value: fig.supports_binary});\n",
       "            fig.send_message(\"send_image_mode\", {});\n",
       "            if (mpl.ratio != 1) {\n",
       "                fig.send_message(\"set_dpi_ratio\", {'dpi_ratio': mpl.ratio});\n",
       "            }\n",
       "            fig.send_message(\"refresh\", {});\n",
       "        }\n",
       "\n",
       "    this.imageObj.onload = function() {\n",
       "            if (fig.image_mode == 'full') {\n",
       "                // Full images could contain transparency (where diff images\n",
       "                // almost always do), so we need to clear the canvas so that\n",
       "                // there is no ghosting.\n",
       "                fig.context.clearRect(0, 0, fig.canvas.width, fig.canvas.height);\n",
       "            }\n",
       "            fig.context.drawImage(fig.imageObj, 0, 0);\n",
       "        };\n",
       "\n",
       "    this.imageObj.onunload = function() {\n",
       "        fig.ws.close();\n",
       "    }\n",
       "\n",
       "    this.ws.onmessage = this._make_on_message_function(this);\n",
       "\n",
       "    this.ondownload = ondownload;\n",
       "}\n",
       "\n",
       "mpl.figure.prototype._init_header = function() {\n",
       "    var titlebar = $(\n",
       "        '<div class=\"ui-dialog-titlebar ui-widget-header ui-corner-all ' +\n",
       "        'ui-helper-clearfix\"/>');\n",
       "    var titletext = $(\n",
       "        '<div class=\"ui-dialog-title\" style=\"width: 100%; ' +\n",
       "        'text-align: center; padding: 3px;\"/>');\n",
       "    titlebar.append(titletext)\n",
       "    this.root.append(titlebar);\n",
       "    this.header = titletext[0];\n",
       "}\n",
       "\n",
       "\n",
       "\n",
       "mpl.figure.prototype._canvas_extra_style = function(canvas_div) {\n",
       "\n",
       "}\n",
       "\n",
       "\n",
       "mpl.figure.prototype._root_extra_style = function(canvas_div) {\n",
       "\n",
       "}\n",
       "\n",
       "mpl.figure.prototype._init_canvas = function() {\n",
       "    var fig = this;\n",
       "\n",
       "    var canvas_div = $('<div/>');\n",
       "\n",
       "    canvas_div.attr('style', 'position: relative; clear: both; outline: 0');\n",
       "\n",
       "    function canvas_keyboard_event(event) {\n",
       "        return fig.key_event(event, event['data']);\n",
       "    }\n",
       "\n",
       "    canvas_div.keydown('key_press', canvas_keyboard_event);\n",
       "    canvas_div.keyup('key_release', canvas_keyboard_event);\n",
       "    this.canvas_div = canvas_div\n",
       "    this._canvas_extra_style(canvas_div)\n",
       "    this.root.append(canvas_div);\n",
       "\n",
       "    var canvas = $('<canvas/>');\n",
       "    canvas.addClass('mpl-canvas');\n",
       "    canvas.attr('style', \"left: 0; top: 0; z-index: 0; outline: 0\")\n",
       "\n",
       "    this.canvas = canvas[0];\n",
       "    this.context = canvas[0].getContext(\"2d\");\n",
       "\n",
       "    var backingStore = this.context.backingStorePixelRatio ||\n",
       "\tthis.context.webkitBackingStorePixelRatio ||\n",
       "\tthis.context.mozBackingStorePixelRatio ||\n",
       "\tthis.context.msBackingStorePixelRatio ||\n",
       "\tthis.context.oBackingStorePixelRatio ||\n",
       "\tthis.context.backingStorePixelRatio || 1;\n",
       "\n",
       "    mpl.ratio = (window.devicePixelRatio || 1) / backingStore;\n",
       "\n",
       "    var rubberband = $('<canvas/>');\n",
       "    rubberband.attr('style', \"position: absolute; left: 0; top: 0; z-index: 1;\")\n",
       "\n",
       "    var pass_mouse_events = true;\n",
       "\n",
       "    canvas_div.resizable({\n",
       "        start: function(event, ui) {\n",
       "            pass_mouse_events = false;\n",
       "        },\n",
       "        resize: function(event, ui) {\n",
       "            fig.request_resize(ui.size.width, ui.size.height);\n",
       "        },\n",
       "        stop: function(event, ui) {\n",
       "            pass_mouse_events = true;\n",
       "            fig.request_resize(ui.size.width, ui.size.height);\n",
       "        },\n",
       "    });\n",
       "\n",
       "    function mouse_event_fn(event) {\n",
       "        if (pass_mouse_events)\n",
       "            return fig.mouse_event(event, event['data']);\n",
       "    }\n",
       "\n",
       "    rubberband.mousedown('button_press', mouse_event_fn);\n",
       "    rubberband.mouseup('button_release', mouse_event_fn);\n",
       "    // Throttle sequential mouse events to 1 every 20ms.\n",
       "    rubberband.mousemove('motion_notify', mouse_event_fn);\n",
       "\n",
       "    rubberband.mouseenter('figure_enter', mouse_event_fn);\n",
       "    rubberband.mouseleave('figure_leave', mouse_event_fn);\n",
       "\n",
       "    canvas_div.on(\"wheel\", function (event) {\n",
       "        event = event.originalEvent;\n",
       "        event['data'] = 'scroll'\n",
       "        if (event.deltaY < 0) {\n",
       "            event.step = 1;\n",
       "        } else {\n",
       "            event.step = -1;\n",
       "        }\n",
       "        mouse_event_fn(event);\n",
       "    });\n",
       "\n",
       "    canvas_div.append(canvas);\n",
       "    canvas_div.append(rubberband);\n",
       "\n",
       "    this.rubberband = rubberband;\n",
       "    this.rubberband_canvas = rubberband[0];\n",
       "    this.rubberband_context = rubberband[0].getContext(\"2d\");\n",
       "    this.rubberband_context.strokeStyle = \"#000000\";\n",
       "\n",
       "    this._resize_canvas = function(width, height) {\n",
       "        // Keep the size of the canvas, canvas container, and rubber band\n",
       "        // canvas in synch.\n",
       "        canvas_div.css('width', width)\n",
       "        canvas_div.css('height', height)\n",
       "\n",
       "        canvas.attr('width', width * mpl.ratio);\n",
       "        canvas.attr('height', height * mpl.ratio);\n",
       "        canvas.attr('style', 'width: ' + width + 'px; height: ' + height + 'px;');\n",
       "\n",
       "        rubberband.attr('width', width);\n",
       "        rubberband.attr('height', height);\n",
       "    }\n",
       "\n",
       "    // Set the figure to an initial 600x600px, this will subsequently be updated\n",
       "    // upon first draw.\n",
       "    this._resize_canvas(600, 600);\n",
       "\n",
       "    // Disable right mouse context menu.\n",
       "    $(this.rubberband_canvas).bind(\"contextmenu\",function(e){\n",
       "        return false;\n",
       "    });\n",
       "\n",
       "    function set_focus () {\n",
       "        canvas.focus();\n",
       "        canvas_div.focus();\n",
       "    }\n",
       "\n",
       "    window.setTimeout(set_focus, 100);\n",
       "}\n",
       "\n",
       "mpl.figure.prototype._init_toolbar = function() {\n",
       "    var fig = this;\n",
       "\n",
       "    var nav_element = $('<div/>');\n",
       "    nav_element.attr('style', 'width: 100%');\n",
       "    this.root.append(nav_element);\n",
       "\n",
       "    // Define a callback function for later on.\n",
       "    function toolbar_event(event) {\n",
       "        return fig.toolbar_button_onclick(event['data']);\n",
       "    }\n",
       "    function toolbar_mouse_event(event) {\n",
       "        return fig.toolbar_button_onmouseover(event['data']);\n",
       "    }\n",
       "\n",
       "    for(var toolbar_ind in mpl.toolbar_items) {\n",
       "        var name = mpl.toolbar_items[toolbar_ind][0];\n",
       "        var tooltip = mpl.toolbar_items[toolbar_ind][1];\n",
       "        var image = mpl.toolbar_items[toolbar_ind][2];\n",
       "        var method_name = mpl.toolbar_items[toolbar_ind][3];\n",
       "\n",
       "        if (!name) {\n",
       "            // put a spacer in here.\n",
       "            continue;\n",
       "        }\n",
       "        var button = $('<button/>');\n",
       "        button.addClass('ui-button ui-widget ui-state-default ui-corner-all ' +\n",
       "                        'ui-button-icon-only');\n",
       "        button.attr('role', 'button');\n",
       "        button.attr('aria-disabled', 'false');\n",
       "        button.click(method_name, toolbar_event);\n",
       "        button.mouseover(tooltip, toolbar_mouse_event);\n",
       "\n",
       "        var icon_img = $('<span/>');\n",
       "        icon_img.addClass('ui-button-icon-primary ui-icon');\n",
       "        icon_img.addClass(image);\n",
       "        icon_img.addClass('ui-corner-all');\n",
       "\n",
       "        var tooltip_span = $('<span/>');\n",
       "        tooltip_span.addClass('ui-button-text');\n",
       "        tooltip_span.html(tooltip);\n",
       "\n",
       "        button.append(icon_img);\n",
       "        button.append(tooltip_span);\n",
       "\n",
       "        nav_element.append(button);\n",
       "    }\n",
       "\n",
       "    var fmt_picker_span = $('<span/>');\n",
       "\n",
       "    var fmt_picker = $('<select/>');\n",
       "    fmt_picker.addClass('mpl-toolbar-option ui-widget ui-widget-content');\n",
       "    fmt_picker_span.append(fmt_picker);\n",
       "    nav_element.append(fmt_picker_span);\n",
       "    this.format_dropdown = fmt_picker[0];\n",
       "\n",
       "    for (var ind in mpl.extensions) {\n",
       "        var fmt = mpl.extensions[ind];\n",
       "        var option = $(\n",
       "            '<option/>', {selected: fmt === mpl.default_extension}).html(fmt);\n",
       "        fmt_picker.append(option);\n",
       "    }\n",
       "\n",
       "    // Add hover states to the ui-buttons\n",
       "    $( \".ui-button\" ).hover(\n",
       "        function() { $(this).addClass(\"ui-state-hover\");},\n",
       "        function() { $(this).removeClass(\"ui-state-hover\");}\n",
       "    );\n",
       "\n",
       "    var status_bar = $('<span class=\"mpl-message\"/>');\n",
       "    nav_element.append(status_bar);\n",
       "    this.message = status_bar[0];\n",
       "}\n",
       "\n",
       "mpl.figure.prototype.request_resize = function(x_pixels, y_pixels) {\n",
       "    // Request matplotlib to resize the figure. Matplotlib will then trigger a resize in the client,\n",
       "    // which will in turn request a refresh of the image.\n",
       "    this.send_message('resize', {'width': x_pixels, 'height': y_pixels});\n",
       "}\n",
       "\n",
       "mpl.figure.prototype.send_message = function(type, properties) {\n",
       "    properties['type'] = type;\n",
       "    properties['figure_id'] = this.id;\n",
       "    this.ws.send(JSON.stringify(properties));\n",
       "}\n",
       "\n",
       "mpl.figure.prototype.send_draw_message = function() {\n",
       "    if (!this.waiting) {\n",
       "        this.waiting = true;\n",
       "        this.ws.send(JSON.stringify({type: \"draw\", figure_id: this.id}));\n",
       "    }\n",
       "}\n",
       "\n",
       "\n",
       "mpl.figure.prototype.handle_save = function(fig, msg) {\n",
       "    var format_dropdown = fig.format_dropdown;\n",
       "    var format = format_dropdown.options[format_dropdown.selectedIndex].value;\n",
       "    fig.ondownload(fig, format);\n",
       "}\n",
       "\n",
       "\n",
       "mpl.figure.prototype.handle_resize = function(fig, msg) {\n",
       "    var size = msg['size'];\n",
       "    if (size[0] != fig.canvas.width || size[1] != fig.canvas.height) {\n",
       "        fig._resize_canvas(size[0], size[1]);\n",
       "        fig.send_message(\"refresh\", {});\n",
       "    };\n",
       "}\n",
       "\n",
       "mpl.figure.prototype.handle_rubberband = function(fig, msg) {\n",
       "    var x0 = msg['x0'] / mpl.ratio;\n",
       "    var y0 = (fig.canvas.height - msg['y0']) / mpl.ratio;\n",
       "    var x1 = msg['x1'] / mpl.ratio;\n",
       "    var y1 = (fig.canvas.height - msg['y1']) / mpl.ratio;\n",
       "    x0 = Math.floor(x0) + 0.5;\n",
       "    y0 = Math.floor(y0) + 0.5;\n",
       "    x1 = Math.floor(x1) + 0.5;\n",
       "    y1 = Math.floor(y1) + 0.5;\n",
       "    var min_x = Math.min(x0, x1);\n",
       "    var min_y = Math.min(y0, y1);\n",
       "    var width = Math.abs(x1 - x0);\n",
       "    var height = Math.abs(y1 - y0);\n",
       "\n",
       "    fig.rubberband_context.clearRect(\n",
       "        0, 0, fig.canvas.width / mpl.ratio, fig.canvas.height / mpl.ratio);\n",
       "\n",
       "    fig.rubberband_context.strokeRect(min_x, min_y, width, height);\n",
       "}\n",
       "\n",
       "mpl.figure.prototype.handle_figure_label = function(fig, msg) {\n",
       "    // Updates the figure title.\n",
       "    fig.header.textContent = msg['label'];\n",
       "}\n",
       "\n",
       "mpl.figure.prototype.handle_cursor = function(fig, msg) {\n",
       "    var cursor = msg['cursor'];\n",
       "    switch(cursor)\n",
       "    {\n",
       "    case 0:\n",
       "        cursor = 'pointer';\n",
       "        break;\n",
       "    case 1:\n",
       "        cursor = 'default';\n",
       "        break;\n",
       "    case 2:\n",
       "        cursor = 'crosshair';\n",
       "        break;\n",
       "    case 3:\n",
       "        cursor = 'move';\n",
       "        break;\n",
       "    }\n",
       "    fig.rubberband_canvas.style.cursor = cursor;\n",
       "}\n",
       "\n",
       "mpl.figure.prototype.handle_message = function(fig, msg) {\n",
       "    fig.message.textContent = msg['message'];\n",
       "}\n",
       "\n",
       "mpl.figure.prototype.handle_draw = function(fig, msg) {\n",
       "    // Request the server to send over a new figure.\n",
       "    fig.send_draw_message();\n",
       "}\n",
       "\n",
       "mpl.figure.prototype.handle_image_mode = function(fig, msg) {\n",
       "    fig.image_mode = msg['mode'];\n",
       "}\n",
       "\n",
       "mpl.figure.prototype.updated_canvas_event = function() {\n",
       "    // Called whenever the canvas gets updated.\n",
       "    this.send_message(\"ack\", {});\n",
       "}\n",
       "\n",
       "// A function to construct a web socket function for onmessage handling.\n",
       "// Called in the figure constructor.\n",
       "mpl.figure.prototype._make_on_message_function = function(fig) {\n",
       "    return function socket_on_message(evt) {\n",
       "        if (evt.data instanceof Blob) {\n",
       "            /* FIXME: We get \"Resource interpreted as Image but\n",
       "             * transferred with MIME type text/plain:\" errors on\n",
       "             * Chrome.  But how to set the MIME type?  It doesn't seem\n",
       "             * to be part of the websocket stream */\n",
       "            evt.data.type = \"image/png\";\n",
       "\n",
       "            /* Free the memory for the previous frames */\n",
       "            if (fig.imageObj.src) {\n",
       "                (window.URL || window.webkitURL).revokeObjectURL(\n",
       "                    fig.imageObj.src);\n",
       "            }\n",
       "\n",
       "            fig.imageObj.src = (window.URL || window.webkitURL).createObjectURL(\n",
       "                evt.data);\n",
       "            fig.updated_canvas_event();\n",
       "            fig.waiting = false;\n",
       "            return;\n",
       "        }\n",
       "        else if (typeof evt.data === 'string' && evt.data.slice(0, 21) == \"data:image/png;base64\") {\n",
       "            fig.imageObj.src = evt.data;\n",
       "            fig.updated_canvas_event();\n",
       "            fig.waiting = false;\n",
       "            return;\n",
       "        }\n",
       "\n",
       "        var msg = JSON.parse(evt.data);\n",
       "        var msg_type = msg['type'];\n",
       "\n",
       "        // Call the  \"handle_{type}\" callback, which takes\n",
       "        // the figure and JSON message as its only arguments.\n",
       "        try {\n",
       "            var callback = fig[\"handle_\" + msg_type];\n",
       "        } catch (e) {\n",
       "            console.log(\"No handler for the '\" + msg_type + \"' message type: \", msg);\n",
       "            return;\n",
       "        }\n",
       "\n",
       "        if (callback) {\n",
       "            try {\n",
       "                // console.log(\"Handling '\" + msg_type + \"' message: \", msg);\n",
       "                callback(fig, msg);\n",
       "            } catch (e) {\n",
       "                console.log(\"Exception inside the 'handler_\" + msg_type + \"' callback:\", e, e.stack, msg);\n",
       "            }\n",
       "        }\n",
       "    };\n",
       "}\n",
       "\n",
       "// from http://stackoverflow.com/questions/1114465/getting-mouse-location-in-canvas\n",
       "mpl.findpos = function(e) {\n",
       "    //this section is from http://www.quirksmode.org/js/events_properties.html\n",
       "    var targ;\n",
       "    if (!e)\n",
       "        e = window.event;\n",
       "    if (e.target)\n",
       "        targ = e.target;\n",
       "    else if (e.srcElement)\n",
       "        targ = e.srcElement;\n",
       "    if (targ.nodeType == 3) // defeat Safari bug\n",
       "        targ = targ.parentNode;\n",
       "\n",
       "    // jQuery normalizes the pageX and pageY\n",
       "    // pageX,Y are the mouse positions relative to the document\n",
       "    // offset() returns the position of the element relative to the document\n",
       "    var x = e.pageX - $(targ).offset().left;\n",
       "    var y = e.pageY - $(targ).offset().top;\n",
       "\n",
       "    return {\"x\": x, \"y\": y};\n",
       "};\n",
       "\n",
       "/*\n",
       " * return a copy of an object with only non-object keys\n",
       " * we need this to avoid circular references\n",
       " * http://stackoverflow.com/a/24161582/3208463\n",
       " */\n",
       "function simpleKeys (original) {\n",
       "  return Object.keys(original).reduce(function (obj, key) {\n",
       "    if (typeof original[key] !== 'object')\n",
       "        obj[key] = original[key]\n",
       "    return obj;\n",
       "  }, {});\n",
       "}\n",
       "\n",
       "mpl.figure.prototype.mouse_event = function(event, name) {\n",
       "    var canvas_pos = mpl.findpos(event)\n",
       "\n",
       "    if (name === 'button_press')\n",
       "    {\n",
       "        this.canvas.focus();\n",
       "        this.canvas_div.focus();\n",
       "    }\n",
       "\n",
       "    var x = canvas_pos.x * mpl.ratio;\n",
       "    var y = canvas_pos.y * mpl.ratio;\n",
       "\n",
       "    this.send_message(name, {x: x, y: y, button: event.button,\n",
       "                             step: event.step,\n",
       "                             guiEvent: simpleKeys(event)});\n",
       "\n",
       "    /* This prevents the web browser from automatically changing to\n",
       "     * the text insertion cursor when the button is pressed.  We want\n",
       "     * to control all of the cursor setting manually through the\n",
       "     * 'cursor' event from matplotlib */\n",
       "    event.preventDefault();\n",
       "    return false;\n",
       "}\n",
       "\n",
       "mpl.figure.prototype._key_event_extra = function(event, name) {\n",
       "    // Handle any extra behaviour associated with a key event\n",
       "}\n",
       "\n",
       "mpl.figure.prototype.key_event = function(event, name) {\n",
       "\n",
       "    // Prevent repeat events\n",
       "    if (name == 'key_press')\n",
       "    {\n",
       "        if (event.which === this._key)\n",
       "            return;\n",
       "        else\n",
       "            this._key = event.which;\n",
       "    }\n",
       "    if (name == 'key_release')\n",
       "        this._key = null;\n",
       "\n",
       "    var value = '';\n",
       "    if (event.ctrlKey && event.which != 17)\n",
       "        value += \"ctrl+\";\n",
       "    if (event.altKey && event.which != 18)\n",
       "        value += \"alt+\";\n",
       "    if (event.shiftKey && event.which != 16)\n",
       "        value += \"shift+\";\n",
       "\n",
       "    value += 'k';\n",
       "    value += event.which.toString();\n",
       "\n",
       "    this._key_event_extra(event, name);\n",
       "\n",
       "    this.send_message(name, {key: value,\n",
       "                             guiEvent: simpleKeys(event)});\n",
       "    return false;\n",
       "}\n",
       "\n",
       "mpl.figure.prototype.toolbar_button_onclick = function(name) {\n",
       "    if (name == 'download') {\n",
       "        this.handle_save(this, null);\n",
       "    } else {\n",
       "        this.send_message(\"toolbar_button\", {name: name});\n",
       "    }\n",
       "};\n",
       "\n",
       "mpl.figure.prototype.toolbar_button_onmouseover = function(tooltip) {\n",
       "    this.message.textContent = tooltip;\n",
       "};\n",
       "mpl.toolbar_items = [[\"Home\", \"Reset original view\", \"fa fa-home icon-home\", \"home\"], [\"Back\", \"Back to previous view\", \"fa fa-arrow-left icon-arrow-left\", \"back\"], [\"Forward\", \"Forward to next view\", \"fa fa-arrow-right icon-arrow-right\", \"forward\"], [\"\", \"\", \"\", \"\"], [\"Pan\", \"Pan axes with left mouse, zoom with right\", \"fa fa-arrows icon-move\", \"pan\"], [\"Zoom\", \"Zoom to rectangle\", \"fa fa-square-o icon-check-empty\", \"zoom\"], [\"\", \"\", \"\", \"\"], [\"Download\", \"Download plot\", \"fa fa-floppy-o icon-save\", \"download\"]];\n",
       "\n",
       "mpl.extensions = [\"eps\", \"jpeg\", \"pdf\", \"png\", \"ps\", \"raw\", \"svg\", \"tif\"];\n",
       "\n",
       "mpl.default_extension = \"png\";var comm_websocket_adapter = function(comm) {\n",
       "    // Create a \"websocket\"-like object which calls the given IPython comm\n",
       "    // object with the appropriate methods. Currently this is a non binary\n",
       "    // socket, so there is still some room for performance tuning.\n",
       "    var ws = {};\n",
       "\n",
       "    ws.close = function() {\n",
       "        comm.close()\n",
       "    };\n",
       "    ws.send = function(m) {\n",
       "        //console.log('sending', m);\n",
       "        comm.send(m);\n",
       "    };\n",
       "    // Register the callback with on_msg.\n",
       "    comm.on_msg(function(msg) {\n",
       "        //console.log('receiving', msg['content']['data'], msg);\n",
       "        // Pass the mpl event to the overridden (by mpl) onmessage function.\n",
       "        ws.onmessage(msg['content']['data'])\n",
       "    });\n",
       "    return ws;\n",
       "}\n",
       "\n",
       "mpl.mpl_figure_comm = function(comm, msg) {\n",
       "    // This is the function which gets called when the mpl process\n",
       "    // starts-up an IPython Comm through the \"matplotlib\" channel.\n",
       "\n",
       "    var id = msg.content.data.id;\n",
       "    // Get hold of the div created by the display call when the Comm\n",
       "    // socket was opened in Python.\n",
       "    var element = $(\"#\" + id);\n",
       "    var ws_proxy = comm_websocket_adapter(comm)\n",
       "\n",
       "    function ondownload(figure, format) {\n",
       "        window.open(figure.imageObj.src);\n",
       "    }\n",
       "\n",
       "    var fig = new mpl.figure(id, ws_proxy,\n",
       "                           ondownload,\n",
       "                           element.get(0));\n",
       "\n",
       "    // Call onopen now - mpl needs it, as it is assuming we've passed it a real\n",
       "    // web socket which is closed, not our websocket->open comm proxy.\n",
       "    ws_proxy.onopen();\n",
       "\n",
       "    fig.parent_element = element.get(0);\n",
       "    fig.cell_info = mpl.find_output_cell(\"<div id='\" + id + \"'></div>\");\n",
       "    if (!fig.cell_info) {\n",
       "        console.error(\"Failed to find cell for figure\", id, fig);\n",
       "        return;\n",
       "    }\n",
       "\n",
       "    var output_index = fig.cell_info[2]\n",
       "    var cell = fig.cell_info[0];\n",
       "\n",
       "};\n",
       "\n",
       "mpl.figure.prototype.handle_close = function(fig, msg) {\n",
       "    var width = fig.canvas.width/mpl.ratio\n",
       "    fig.root.unbind('remove')\n",
       "\n",
       "    // Update the output cell to use the data from the current canvas.\n",
       "    fig.push_to_output();\n",
       "    var dataURL = fig.canvas.toDataURL();\n",
       "    // Re-enable the keyboard manager in IPython - without this line, in FF,\n",
       "    // the notebook keyboard shortcuts fail.\n",
       "    IPython.keyboard_manager.enable()\n",
       "    $(fig.parent_element).html('<img src=\"' + dataURL + '\" width=\"' + width + '\">');\n",
       "    fig.close_ws(fig, msg);\n",
       "}\n",
       "\n",
       "mpl.figure.prototype.close_ws = function(fig, msg){\n",
       "    fig.send_message('closing', msg);\n",
       "    // fig.ws.close()\n",
       "}\n",
       "\n",
       "mpl.figure.prototype.push_to_output = function(remove_interactive) {\n",
       "    // Turn the data on the canvas into data in the output cell.\n",
       "    var width = this.canvas.width/mpl.ratio\n",
       "    var dataURL = this.canvas.toDataURL();\n",
       "    this.cell_info[1]['text/html'] = '<img src=\"' + dataURL + '\" width=\"' + width + '\">';\n",
       "}\n",
       "\n",
       "mpl.figure.prototype.updated_canvas_event = function() {\n",
       "    // Tell IPython that the notebook contents must change.\n",
       "    IPython.notebook.set_dirty(true);\n",
       "    this.send_message(\"ack\", {});\n",
       "    var fig = this;\n",
       "    // Wait a second, then push the new image to the DOM so\n",
       "    // that it is saved nicely (might be nice to debounce this).\n",
       "    setTimeout(function () { fig.push_to_output() }, 1000);\n",
       "}\n",
       "\n",
       "mpl.figure.prototype._init_toolbar = function() {\n",
       "    var fig = this;\n",
       "\n",
       "    var nav_element = $('<div/>');\n",
       "    nav_element.attr('style', 'width: 100%');\n",
       "    this.root.append(nav_element);\n",
       "\n",
       "    // Define a callback function for later on.\n",
       "    function toolbar_event(event) {\n",
       "        return fig.toolbar_button_onclick(event['data']);\n",
       "    }\n",
       "    function toolbar_mouse_event(event) {\n",
       "        return fig.toolbar_button_onmouseover(event['data']);\n",
       "    }\n",
       "\n",
       "    for(var toolbar_ind in mpl.toolbar_items){\n",
       "        var name = mpl.toolbar_items[toolbar_ind][0];\n",
       "        var tooltip = mpl.toolbar_items[toolbar_ind][1];\n",
       "        var image = mpl.toolbar_items[toolbar_ind][2];\n",
       "        var method_name = mpl.toolbar_items[toolbar_ind][3];\n",
       "\n",
       "        if (!name) { continue; };\n",
       "\n",
       "        var button = $('<button class=\"btn btn-default\" href=\"#\" title=\"' + name + '\"><i class=\"fa ' + image + ' fa-lg\"></i></button>');\n",
       "        button.click(method_name, toolbar_event);\n",
       "        button.mouseover(tooltip, toolbar_mouse_event);\n",
       "        nav_element.append(button);\n",
       "    }\n",
       "\n",
       "    // Add the status bar.\n",
       "    var status_bar = $('<span class=\"mpl-message\" style=\"text-align:right; float: right;\"/>');\n",
       "    nav_element.append(status_bar);\n",
       "    this.message = status_bar[0];\n",
       "\n",
       "    // Add the close button to the window.\n",
       "    var buttongrp = $('<div class=\"btn-group inline pull-right\"></div>');\n",
       "    var button = $('<button class=\"btn btn-mini btn-primary\" href=\"#\" title=\"Stop Interaction\"><i class=\"fa fa-power-off icon-remove icon-large\"></i></button>');\n",
       "    button.click(function (evt) { fig.handle_close(fig, {}); } );\n",
       "    button.mouseover('Stop Interaction', toolbar_mouse_event);\n",
       "    buttongrp.append(button);\n",
       "    var titlebar = this.root.find($('.ui-dialog-titlebar'));\n",
       "    titlebar.prepend(buttongrp);\n",
       "}\n",
       "\n",
       "mpl.figure.prototype._root_extra_style = function(el){\n",
       "    var fig = this\n",
       "    el.on(\"remove\", function(){\n",
       "\tfig.close_ws(fig, {});\n",
       "    });\n",
       "}\n",
       "\n",
       "mpl.figure.prototype._canvas_extra_style = function(el){\n",
       "    // this is important to make the div 'focusable\n",
       "    el.attr('tabindex', 0)\n",
       "    // reach out to IPython and tell the keyboard manager to turn it's self\n",
       "    // off when our div gets focus\n",
       "\n",
       "    // location in version 3\n",
       "    if (IPython.notebook.keyboard_manager) {\n",
       "        IPython.notebook.keyboard_manager.register_events(el);\n",
       "    }\n",
       "    else {\n",
       "        // location in version 2\n",
       "        IPython.keyboard_manager.register_events(el);\n",
       "    }\n",
       "\n",
       "}\n",
       "\n",
       "mpl.figure.prototype._key_event_extra = function(event, name) {\n",
       "    var manager = IPython.notebook.keyboard_manager;\n",
       "    if (!manager)\n",
       "        manager = IPython.keyboard_manager;\n",
       "\n",
       "    // Check for shift+enter\n",
       "    if (event.shiftKey && event.which == 13) {\n",
       "        this.canvas_div.blur();\n",
       "        // select the cell after this one\n",
       "        var index = IPython.notebook.find_cell_index(this.cell_info[0]);\n",
       "        IPython.notebook.select(index + 1);\n",
       "    }\n",
       "}\n",
       "\n",
       "mpl.figure.prototype.handle_save = function(fig, msg) {\n",
       "    fig.ondownload(fig, null);\n",
       "}\n",
       "\n",
       "\n",
       "mpl.find_output_cell = function(html_output) {\n",
       "    // Return the cell and output element which can be found *uniquely* in the notebook.\n",
       "    // Note - this is a bit hacky, but it is done because the \"notebook_saving.Notebook\"\n",
       "    // IPython event is triggered only after the cells have been serialised, which for\n",
       "    // our purposes (turning an active figure into a static one), is too late.\n",
       "    var cells = IPython.notebook.get_cells();\n",
       "    var ncells = cells.length;\n",
       "    for (var i=0; i<ncells; i++) {\n",
       "        var cell = cells[i];\n",
       "        if (cell.cell_type === 'code'){\n",
       "            for (var j=0; j<cell.output_area.outputs.length; j++) {\n",
       "                var data = cell.output_area.outputs[j];\n",
       "                if (data.data) {\n",
       "                    // IPython >= 3 moved mimebundle to data attribute of output\n",
       "                    data = data.data;\n",
       "                }\n",
       "                if (data['text/html'] == html_output) {\n",
       "                    return [cell, data, j];\n",
       "                }\n",
       "            }\n",
       "        }\n",
       "    }\n",
       "}\n",
       "\n",
       "// Register the function which deals with the matplotlib target/channel.\n",
       "// The kernel may be null if the page has been refreshed.\n",
       "if (IPython.notebook.kernel != null) {\n",
       "    IPython.notebook.kernel.comm_manager.register_target('matplotlib', mpl.mpl_figure_comm);\n",
       "}\n"
      ],
      "text/plain": [
       "<IPython.core.display.Javascript object>"
      ]
     },
     "metadata": {},
     "output_type": "display_data"
    },
    {
     "data": {
      "text/html": [
       "<img src=\"data:image/png;base64,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\" width=\"700\">"
      ],
      "text/plain": [
       "<IPython.core.display.HTML object>"
      ]
     },
     "metadata": {},
     "output_type": "display_data"
    }
   ],
   "source": [
    "%matplotlib notebook\n",
    "#%matplotlib ipympl\n",
    "import matplotlib.pyplot as plt\n",
    "fig, ax = plt.subplots(figsize=(7, 4), tight_layout=True)\n",
    "ax.matshow(FRACTAL, cmap=plt.cm.gnuplot);"
   ]
  }
 ],
 "metadata": {
  "kernelspec": {
   "display_name": "Python 3",
   "language": "python",
   "name": "python3"
  },
  "language_info": {
   "codemirror_mode": {
    "name": "ipython",
    "version": 3
   },
   "file_extension": ".py",
   "mimetype": "text/x-python",
   "name": "python",
   "nbconvert_exporter": "python",
   "pygments_lexer": "ipython3",
   "version": "3.7.6"
  }
 },
 "nbformat": 4,
 "nbformat_minor": 5
}
