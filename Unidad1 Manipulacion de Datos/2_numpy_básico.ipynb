{
 "cells": [
  {
   "cell_type": "code",
   "execution_count": 3,
   "metadata": {},
   "outputs": [],
   "source": [
    "import numpy as np"
   ]
  },
  {
   "cell_type": "code",
   "execution_count": 31,
   "metadata": {},
   "outputs": [],
   "source": [
    "import warnings\n",
    "warnings.filterwarnings(\"ignore\", category=FutureWarning)"
   ]
  },
  {
   "cell_type": "markdown",
   "metadata": {},
   "source": [
    "**Creación y manipulación de arreglos**\n",
    "\n",
    "Cree el siguiente arreglo usando funciones de NumPy\n",
    "\n",
    "```\n",
    "[[1,  6, 11],\n",
    " [2,  7, 12],\n",
    " [3,  8, 13],\n",
    " [4,  9, 14],\n",
    " [5, 10, 15]]\n",
    "```"
   ]
  },
  {
   "cell_type": "code",
   "execution_count": 4,
   "metadata": {},
   "outputs": [
    {
     "data": {
      "text/plain": [
       "array([ 1,  2,  3,  4,  5,  6,  7,  8,  9, 10, 11, 12, 13, 14, 15])"
      ]
     },
     "metadata": {},
     "output_type": "display_data"
    },
    {
     "data": {
      "text/plain": [
       "array([[ 1,  2,  3,  4,  5],\n",
       "       [ 6,  7,  8,  9, 10],\n",
       "       [11, 12, 13, 14, 15]])"
      ]
     },
     "metadata": {},
     "output_type": "display_data"
    },
    {
     "data": {
      "text/plain": [
       "array([[ 1,  6, 11],\n",
       "       [ 2,  7, 12],\n",
       "       [ 3,  8, 13],\n",
       "       [ 4,  9, 14],\n",
       "       [ 5, 10, 15]])"
      ]
     },
     "metadata": {},
     "output_type": "display_data"
    }
   ],
   "source": [
    "A = np.arange(1,16,step=1)\n",
    "display(A)\n",
    "display(A.reshape(3,5))\n",
    "display(A.reshape(3,5).T)"
   ]
  },
  {
   "cell_type": "markdown",
   "metadata": {},
   "source": [
    "Considere la siguiente operación"
   ]
  },
  {
   "cell_type": "code",
   "execution_count": 5,
   "metadata": {},
   "outputs": [
    {
     "name": "stdout",
     "output_type": "stream",
     "text": [
      "4999950000\n"
     ]
    }
   ],
   "source": [
    "numeros = range(100000) \n",
    "print(sum(numeros))"
   ]
  },
  {
   "cell_type": "markdown",
   "metadata": {},
   "source": [
    "Escriba una versión equivalente usando NumPy (bonus: compare los tiempos de cómputo usando `%timeit`)"
   ]
  },
  {
   "cell_type": "code",
   "execution_count": 6,
   "metadata": {
    "scrolled": true
   },
   "outputs": [
    {
     "name": "stdout",
     "output_type": "stream",
     "text": [
      "4999950000\n",
      "2.43 ms ± 510 µs per loop (mean ± std. dev. of 10 runs, 10 loops each)\n",
      "86.3 µs ± 13.8 µs per loop (mean ± std. dev. of 10 runs, 10 loops each)\n"
     ]
    }
   ],
   "source": [
    "numeros2 = np.arange(100000)\n",
    "print(np.sum(numeros2))\n",
    "%timeit -n10 -r10 sum(numeros)\n",
    "%timeit -n10 -r10 np.sum(numeros2)"
   ]
  },
  {
   "cell_type": "markdown",
   "metadata": {},
   "source": [
    "**Slicing y reducciones**"
   ]
  },
  {
   "cell_type": "markdown",
   "metadata": {},
   "source": [
    "Sea el siguiente arreglo de valores numéricos"
   ]
  },
  {
   "cell_type": "code",
   "execution_count": 7,
   "metadata": {},
   "outputs": [],
   "source": [
    "np.random.seed(12345)\n",
    "data = np.random.randn(20, 10)"
   ]
  },
  {
   "cell_type": "markdown",
   "metadata": {},
   "source": [
    "Retorne los elementos pares de la tercera fila"
   ]
  },
  {
   "cell_type": "code",
   "execution_count": 8,
   "metadata": {},
   "outputs": [
    {
     "data": {
      "text/plain": [
       "array([-5.39741446e-01,  3.24894392e+00, -5.77087303e-01,  3.02613562e-01,\n",
       "        9.40277775e-04])"
      ]
     },
     "execution_count": 8,
     "metadata": {},
     "output_type": "execute_result"
    }
   ],
   "source": [
    "data[2, ::2]\n",
    "#Impares[2,1::2] de dos en dos pero partir en 1"
   ]
  },
  {
   "cell_type": "markdown",
   "metadata": {},
   "source": [
    "R: [-5.39741446e-01,  3.24894392e+00, -5.77087303e-01,  3.02613562e-01, 9.40277775e-04]"
   ]
  },
  {
   "cell_type": "markdown",
   "metadata": {},
   "source": [
    "Sume las columnas pares"
   ]
  },
  {
   "cell_type": "code",
   "execution_count": 9,
   "metadata": {
    "scrolled": true
   },
   "outputs": [
    {
     "data": {
      "text/plain": [
       "array([-9.61667537,  2.43997662,  4.0283355 , -6.50295515,  6.05821204])"
      ]
     },
     "execution_count": 9,
     "metadata": {},
     "output_type": "execute_result"
    }
   ],
   "source": [
    "np.sum(data[:,::2], axis = 0)"
   ]
  },
  {
   "cell_type": "markdown",
   "metadata": {},
   "source": [
    "R: array([-9.61667537,  2.43997662,  4.0283355 , -6.50295515,  6.05821204])"
   ]
  },
  {
   "cell_type": "markdown",
   "metadata": {},
   "source": [
    "Encuentre el valor del máximo y su ubicación dentro de la matriz"
   ]
  },
  {
   "cell_type": "code",
   "execution_count": 10,
   "metadata": {},
   "outputs": [
    {
     "name": "stdout",
     "output_type": "stream",
     "text": [
      "3.248943919430755\n"
     ]
    },
    {
     "data": {
      "text/plain": [
       "array([17,  9,  2, 16,  0,  8, 13, 16, 16, 10])"
      ]
     },
     "metadata": {},
     "output_type": "display_data"
    },
    {
     "data": {
      "text/plain": [
       "array([2.22465959, 2.16946144, 3.24894392, 2.06870785, 1.96578057,\n",
       "       1.82487521, 1.30671972, 1.22738699, 1.92078426, 1.58170009])"
      ]
     },
     "metadata": {},
     "output_type": "display_data"
    },
    {
     "name": "stdout",
     "output_type": "stream",
     "text": [
      "2 2\n"
     ]
    },
    {
     "data": {
      "text/plain": [
       "3.248943919430755"
      ]
     },
     "execution_count": 10,
     "metadata": {},
     "output_type": "execute_result"
    }
   ],
   "source": [
    "print(np.amax(data))\n",
    "max_por_columna= np.argmax(data, axis =0)\n",
    "display(max_por_columna)\n",
    "display(data[max_por_columna, range(10)])\n",
    "max_max = np.argmax(data[max_por_columna,range(10)])\n",
    "print(max_por_columna[max_max],max_max)\n",
    "data[max_por_columna[max_max],max_max]\n"
   ]
  },
  {
   "cell_type": "code",
   "execution_count": 11,
   "metadata": {},
   "outputs": [
    {
     "data": {
      "text/plain": [
       "3.248943919430755"
      ]
     },
     "metadata": {},
     "output_type": "display_data"
    },
    {
     "data": {
      "text/plain": [
       "(2, 2)"
      ]
     },
     "metadata": {},
     "output_type": "display_data"
    }
   ],
   "source": [
    "#Version corta:\n",
    "display(np.amax(data))\n",
    "display(np.unravel_index(np.argmax(data),data.shape))\n"
   ]
  },
  {
   "cell_type": "markdown",
   "metadata": {},
   "source": [
    "R: El valor del máximo es 3.248943919430755, está en la fila 2, columna 2"
   ]
  },
  {
   "cell_type": "markdown",
   "metadata": {},
   "source": [
    "**Broadcasting**"
   ]
  },
  {
   "cell_type": "markdown",
   "metadata": {},
   "source": [
    "Sea los vectores $A \\in \\mathbb{R}^{10}$ y $B \\in \\mathbb{R}^{6}$. Construya una matriz de tamaño $10 \\times 6$ que contenga las diferencias cuadradas entre los elementos de $A$ y $B$. Luego encuentre el elemento de A y el elemento de B que tienen la diferencia cuadrada más grande\n",
    "\n",
    "Prohibido usar `for`"
   ]
  },
  {
   "cell_type": "code",
   "execution_count": 12,
   "metadata": {},
   "outputs": [],
   "source": [
    "np.random.seed(12345)\n",
    "A = np.random.randn(10)\n",
    "B = np.random.randn(6)"
   ]
  },
  {
   "cell_type": "code",
   "execution_count": 13,
   "metadata": {},
   "outputs": [
    {
     "data": {
      "text/plain": [
       "(10, 6)"
      ]
     },
     "metadata": {},
     "output_type": "display_data"
    },
    {
     "data": {
      "text/plain": [
       "10.640654970858941"
      ]
     },
     "metadata": {},
     "output_type": "display_data"
    },
    {
     "data": {
      "text/plain": [
       "(4, 1)"
      ]
     },
     "metadata": {},
     "output_type": "display_data"
    }
   ],
   "source": [
    "C = (A.reshape(-1,1) -B.reshape(1,-1))**2\n",
    "display(C.shape)\n",
    "display(np.amax(C))\n",
    "display(np.unravel_index(np.argmax(C),C.shape))"
   ]
  },
  {
   "cell_type": "markdown",
   "metadata": {},
   "source": [
    "R: El elemento 4 de A y el elemento 1 de B tienen una diferencia cuadrada de 10.640654970858941"
   ]
  },
  {
   "cell_type": "markdown",
   "metadata": {},
   "source": [
    "**Fractal de Mandelbrot**\n",
    "\n",
    "El [set de Mandelbrot](https://en.wikipedia.org/wiki/Mandelbrot_set) es un conjunto de números complejos para las cuales la siguiente iteración\n",
    "\n",
    "$$\n",
    "z_{i+1} = z_i^2 + c \n",
    "$$\n",
    "\n",
    "no diverge, es decir aquellos que cumplen\n",
    "\n",
    "$$\n",
    "z_{N} < \\infty\n",
    "$$\n",
    "\n",
    "Considerando $N = 1000$, calcule y muestre el fractal de Mandelbrot. A continuación se entregan instrucciones detalladas para construir el fractal\n",
    "\n",
    "- Cree un arreglo de valores $x$ con $2000$ elementos en el rango $[-2, 1]$\n",
    "- Cree un arreglo de valores $y$ con $2000$ elementos en el rango $[-1.5, 1.5]$\n",
    "- Cree una grilla bidimensional en base a $x$ e $y$ usando `np.meshgrid`\n",
    "- Cree una matriz de números complejos $c = x + 1j*y$\n",
    "- Realice la iteración para cada elemento de la matriz partiendo con $z_{0} = 0$\n",
    "- Encuentre los $z_{N}$ que no divergen usando `np.isnan()`\n"
   ]
  },
  {
   "cell_type": "code",
   "execution_count": 38,
   "metadata": {},
   "outputs": [
    {
     "name": "stderr",
     "output_type": "stream",
     "text": [
      "/home/hp/anaconda3/lib/python3.7/site-packages/ipykernel_launcher.py:7: RuntimeWarning: overflow encountered in square\n",
      "  import sys\n",
      "/home/hp/anaconda3/lib/python3.7/site-packages/ipykernel_launcher.py:7: RuntimeWarning: invalid value encountered in square\n",
      "  import sys\n"
     ]
    }
   ],
   "source": [
    "x = np.linspace(-2,1,2000)\n",
    "y = np.linspace(-1.5,1.5, 2000)\n",
    "X, Y = np.meshgrid(x,y)\n",
    "C = X + 1j*Y\n",
    "Z = np.zeros_like(C)\n",
    "for i in range(1000):\n",
    "    Z = Z**2+C\n",
    "FRACTAL = np.isnan(Z)"
   ]
  },
  {
   "cell_type": "markdown",
   "metadata": {},
   "source": [
    "Una vez calculado puede visualizar el fractal usando:"
   ]
  },
  {
   "cell_type": "code",
   "execution_count": 118,
   "metadata": {},
   "outputs": [
    {
     "data": {
      "application/javascript": [
       "/* Put everything inside the global mpl namespace */\n",
       "window.mpl = {};\n",
       "\n",
       "\n",
       "mpl.get_websocket_type = function() {\n",
       "    if (typeof(WebSocket) !== 'undefined') {\n",
       "        return WebSocket;\n",
       "    } else if (typeof(MozWebSocket) !== 'undefined') {\n",
       "        return MozWebSocket;\n",
       "    } else {\n",
       "        alert('Your browser does not have WebSocket support. ' +\n",
       "              'Please try Chrome, Safari or Firefox ≥ 6. ' +\n",
       "              'Firefox 4 and 5 are also supported but you ' +\n",
       "              'have to enable WebSockets in about:config.');\n",
       "    };\n",
       "}\n",
       "\n",
       "mpl.figure = function(figure_id, websocket, ondownload, parent_element) {\n",
       "    this.id = figure_id;\n",
       "\n",
       "    this.ws = websocket;\n",
       "\n",
       "    this.supports_binary = (this.ws.binaryType != undefined);\n",
       "\n",
       "    if (!this.supports_binary) {\n",
       "        var warnings = document.getElementById(\"mpl-warnings\");\n",
       "        if (warnings) {\n",
       "            warnings.style.display = 'block';\n",
       "            warnings.textContent = (\n",
       "                \"This browser does not support binary websocket messages. \" +\n",
       "                    \"Performance may be slow.\");\n",
       "        }\n",
       "    }\n",
       "\n",
       "    this.imageObj = new Image();\n",
       "\n",
       "    this.context = undefined;\n",
       "    this.message = undefined;\n",
       "    this.canvas = undefined;\n",
       "    this.rubberband_canvas = undefined;\n",
       "    this.rubberband_context = undefined;\n",
       "    this.format_dropdown = undefined;\n",
       "\n",
       "    this.image_mode = 'full';\n",
       "\n",
       "    this.root = $('<div/>');\n",
       "    this._root_extra_style(this.root)\n",
       "    this.root.attr('style', 'display: inline-block');\n",
       "\n",
       "    $(parent_element).append(this.root);\n",
       "\n",
       "    this._init_header(this);\n",
       "    this._init_canvas(this);\n",
       "    this._init_toolbar(this);\n",
       "\n",
       "    var fig = this;\n",
       "\n",
       "    this.waiting = false;\n",
       "\n",
       "    this.ws.onopen =  function () {\n",
       "            fig.send_message(\"supports_binary\", {value: fig.supports_binary});\n",
       "            fig.send_message(\"send_image_mode\", {});\n",
       "            if (mpl.ratio != 1) {\n",
       "                fig.send_message(\"set_dpi_ratio\", {'dpi_ratio': mpl.ratio});\n",
       "            }\n",
       "            fig.send_message(\"refresh\", {});\n",
       "        }\n",
       "\n",
       "    this.imageObj.onload = function() {\n",
       "            if (fig.image_mode == 'full') {\n",
       "                // Full images could contain transparency (where diff images\n",
       "                // almost always do), so we need to clear the canvas so that\n",
       "                // there is no ghosting.\n",
       "                fig.context.clearRect(0, 0, fig.canvas.width, fig.canvas.height);\n",
       "            }\n",
       "            fig.context.drawImage(fig.imageObj, 0, 0);\n",
       "        };\n",
       "\n",
       "    this.imageObj.onunload = function() {\n",
       "        fig.ws.close();\n",
       "    }\n",
       "\n",
       "    this.ws.onmessage = this._make_on_message_function(this);\n",
       "\n",
       "    this.ondownload = ondownload;\n",
       "}\n",
       "\n",
       "mpl.figure.prototype._init_header = function() {\n",
       "    var titlebar = $(\n",
       "        '<div class=\"ui-dialog-titlebar ui-widget-header ui-corner-all ' +\n",
       "        'ui-helper-clearfix\"/>');\n",
       "    var titletext = $(\n",
       "        '<div class=\"ui-dialog-title\" style=\"width: 100%; ' +\n",
       "        'text-align: center; padding: 3px;\"/>');\n",
       "    titlebar.append(titletext)\n",
       "    this.root.append(titlebar);\n",
       "    this.header = titletext[0];\n",
       "}\n",
       "\n",
       "\n",
       "\n",
       "mpl.figure.prototype._canvas_extra_style = function(canvas_div) {\n",
       "\n",
       "}\n",
       "\n",
       "\n",
       "mpl.figure.prototype._root_extra_style = function(canvas_div) {\n",
       "\n",
       "}\n",
       "\n",
       "mpl.figure.prototype._init_canvas = function() {\n",
       "    var fig = this;\n",
       "\n",
       "    var canvas_div = $('<div/>');\n",
       "\n",
       "    canvas_div.attr('style', 'position: relative; clear: both; outline: 0');\n",
       "\n",
       "    function canvas_keyboard_event(event) {\n",
       "        return fig.key_event(event, event['data']);\n",
       "    }\n",
       "\n",
       "    canvas_div.keydown('key_press', canvas_keyboard_event);\n",
       "    canvas_div.keyup('key_release', canvas_keyboard_event);\n",
       "    this.canvas_div = canvas_div\n",
       "    this._canvas_extra_style(canvas_div)\n",
       "    this.root.append(canvas_div);\n",
       "\n",
       "    var canvas = $('<canvas/>');\n",
       "    canvas.addClass('mpl-canvas');\n",
       "    canvas.attr('style', \"left: 0; top: 0; z-index: 0; outline: 0\")\n",
       "\n",
       "    this.canvas = canvas[0];\n",
       "    this.context = canvas[0].getContext(\"2d\");\n",
       "\n",
       "    var backingStore = this.context.backingStorePixelRatio ||\n",
       "\tthis.context.webkitBackingStorePixelRatio ||\n",
       "\tthis.context.mozBackingStorePixelRatio ||\n",
       "\tthis.context.msBackingStorePixelRatio ||\n",
       "\tthis.context.oBackingStorePixelRatio ||\n",
       "\tthis.context.backingStorePixelRatio || 1;\n",
       "\n",
       "    mpl.ratio = (window.devicePixelRatio || 1) / backingStore;\n",
       "\n",
       "    var rubberband = $('<canvas/>');\n",
       "    rubberband.attr('style', \"position: absolute; left: 0; top: 0; z-index: 1;\")\n",
       "\n",
       "    var pass_mouse_events = true;\n",
       "\n",
       "    canvas_div.resizable({\n",
       "        start: function(event, ui) {\n",
       "            pass_mouse_events = false;\n",
       "        },\n",
       "        resize: function(event, ui) {\n",
       "            fig.request_resize(ui.size.width, ui.size.height);\n",
       "        },\n",
       "        stop: function(event, ui) {\n",
       "            pass_mouse_events = true;\n",
       "            fig.request_resize(ui.size.width, ui.size.height);\n",
       "        },\n",
       "    });\n",
       "\n",
       "    function mouse_event_fn(event) {\n",
       "        if (pass_mouse_events)\n",
       "            return fig.mouse_event(event, event['data']);\n",
       "    }\n",
       "\n",
       "    rubberband.mousedown('button_press', mouse_event_fn);\n",
       "    rubberband.mouseup('button_release', mouse_event_fn);\n",
       "    // Throttle sequential mouse events to 1 every 20ms.\n",
       "    rubberband.mousemove('motion_notify', mouse_event_fn);\n",
       "\n",
       "    rubberband.mouseenter('figure_enter', mouse_event_fn);\n",
       "    rubberband.mouseleave('figure_leave', mouse_event_fn);\n",
       "\n",
       "    canvas_div.on(\"wheel\", function (event) {\n",
       "        event = event.originalEvent;\n",
       "        event['data'] = 'scroll'\n",
       "        if (event.deltaY < 0) {\n",
       "            event.step = 1;\n",
       "        } else {\n",
       "            event.step = -1;\n",
       "        }\n",
       "        mouse_event_fn(event);\n",
       "    });\n",
       "\n",
       "    canvas_div.append(canvas);\n",
       "    canvas_div.append(rubberband);\n",
       "\n",
       "    this.rubberband = rubberband;\n",
       "    this.rubberband_canvas = rubberband[0];\n",
       "    this.rubberband_context = rubberband[0].getContext(\"2d\");\n",
       "    this.rubberband_context.strokeStyle = \"#000000\";\n",
       "\n",
       "    this._resize_canvas = function(width, height) {\n",
       "        // Keep the size of the canvas, canvas container, and rubber band\n",
       "        // canvas in synch.\n",
       "        canvas_div.css('width', width)\n",
       "        canvas_div.css('height', height)\n",
       "\n",
       "        canvas.attr('width', width * mpl.ratio);\n",
       "        canvas.attr('height', height * mpl.ratio);\n",
       "        canvas.attr('style', 'width: ' + width + 'px; height: ' + height + 'px;');\n",
       "\n",
       "        rubberband.attr('width', width);\n",
       "        rubberband.attr('height', height);\n",
       "    }\n",
       "\n",
       "    // Set the figure to an initial 600x600px, this will subsequently be updated\n",
       "    // upon first draw.\n",
       "    this._resize_canvas(600, 600);\n",
       "\n",
       "    // Disable right mouse context menu.\n",
       "    $(this.rubberband_canvas).bind(\"contextmenu\",function(e){\n",
       "        return false;\n",
       "    });\n",
       "\n",
       "    function set_focus () {\n",
       "        canvas.focus();\n",
       "        canvas_div.focus();\n",
       "    }\n",
       "\n",
       "    window.setTimeout(set_focus, 100);\n",
       "}\n",
       "\n",
       "mpl.figure.prototype._init_toolbar = function() {\n",
       "    var fig = this;\n",
       "\n",
       "    var nav_element = $('<div/>');\n",
       "    nav_element.attr('style', 'width: 100%');\n",
       "    this.root.append(nav_element);\n",
       "\n",
       "    // Define a callback function for later on.\n",
       "    function toolbar_event(event) {\n",
       "        return fig.toolbar_button_onclick(event['data']);\n",
       "    }\n",
       "    function toolbar_mouse_event(event) {\n",
       "        return fig.toolbar_button_onmouseover(event['data']);\n",
       "    }\n",
       "\n",
       "    for(var toolbar_ind in mpl.toolbar_items) {\n",
       "        var name = mpl.toolbar_items[toolbar_ind][0];\n",
       "        var tooltip = mpl.toolbar_items[toolbar_ind][1];\n",
       "        var image = mpl.toolbar_items[toolbar_ind][2];\n",
       "        var method_name = mpl.toolbar_items[toolbar_ind][3];\n",
       "\n",
       "        if (!name) {\n",
       "            // put a spacer in here.\n",
       "            continue;\n",
       "        }\n",
       "        var button = $('<button/>');\n",
       "        button.addClass('ui-button ui-widget ui-state-default ui-corner-all ' +\n",
       "                        'ui-button-icon-only');\n",
       "        button.attr('role', 'button');\n",
       "        button.attr('aria-disabled', 'false');\n",
       "        button.click(method_name, toolbar_event);\n",
       "        button.mouseover(tooltip, toolbar_mouse_event);\n",
       "\n",
       "        var icon_img = $('<span/>');\n",
       "        icon_img.addClass('ui-button-icon-primary ui-icon');\n",
       "        icon_img.addClass(image);\n",
       "        icon_img.addClass('ui-corner-all');\n",
       "\n",
       "        var tooltip_span = $('<span/>');\n",
       "        tooltip_span.addClass('ui-button-text');\n",
       "        tooltip_span.html(tooltip);\n",
       "\n",
       "        button.append(icon_img);\n",
       "        button.append(tooltip_span);\n",
       "\n",
       "        nav_element.append(button);\n",
       "    }\n",
       "\n",
       "    var fmt_picker_span = $('<span/>');\n",
       "\n",
       "    var fmt_picker = $('<select/>');\n",
       "    fmt_picker.addClass('mpl-toolbar-option ui-widget ui-widget-content');\n",
       "    fmt_picker_span.append(fmt_picker);\n",
       "    nav_element.append(fmt_picker_span);\n",
       "    this.format_dropdown = fmt_picker[0];\n",
       "\n",
       "    for (var ind in mpl.extensions) {\n",
       "        var fmt = mpl.extensions[ind];\n",
       "        var option = $(\n",
       "            '<option/>', {selected: fmt === mpl.default_extension}).html(fmt);\n",
       "        fmt_picker.append(option);\n",
       "    }\n",
       "\n",
       "    // Add hover states to the ui-buttons\n",
       "    $( \".ui-button\" ).hover(\n",
       "        function() { $(this).addClass(\"ui-state-hover\");},\n",
       "        function() { $(this).removeClass(\"ui-state-hover\");}\n",
       "    );\n",
       "\n",
       "    var status_bar = $('<span class=\"mpl-message\"/>');\n",
       "    nav_element.append(status_bar);\n",
       "    this.message = status_bar[0];\n",
       "}\n",
       "\n",
       "mpl.figure.prototype.request_resize = function(x_pixels, y_pixels) {\n",
       "    // Request matplotlib to resize the figure. Matplotlib will then trigger a resize in the client,\n",
       "    // which will in turn request a refresh of the image.\n",
       "    this.send_message('resize', {'width': x_pixels, 'height': y_pixels});\n",
       "}\n",
       "\n",
       "mpl.figure.prototype.send_message = function(type, properties) {\n",
       "    properties['type'] = type;\n",
       "    properties['figure_id'] = this.id;\n",
       "    this.ws.send(JSON.stringify(properties));\n",
       "}\n",
       "\n",
       "mpl.figure.prototype.send_draw_message = function() {\n",
       "    if (!this.waiting) {\n",
       "        this.waiting = true;\n",
       "        this.ws.send(JSON.stringify({type: \"draw\", figure_id: this.id}));\n",
       "    }\n",
       "}\n",
       "\n",
       "\n",
       "mpl.figure.prototype.handle_save = function(fig, msg) {\n",
       "    var format_dropdown = fig.format_dropdown;\n",
       "    var format = format_dropdown.options[format_dropdown.selectedIndex].value;\n",
       "    fig.ondownload(fig, format);\n",
       "}\n",
       "\n",
       "\n",
       "mpl.figure.prototype.handle_resize = function(fig, msg) {\n",
       "    var size = msg['size'];\n",
       "    if (size[0] != fig.canvas.width || size[1] != fig.canvas.height) {\n",
       "        fig._resize_canvas(size[0], size[1]);\n",
       "        fig.send_message(\"refresh\", {});\n",
       "    };\n",
       "}\n",
       "\n",
       "mpl.figure.prototype.handle_rubberband = function(fig, msg) {\n",
       "    var x0 = msg['x0'] / mpl.ratio;\n",
       "    var y0 = (fig.canvas.height - msg['y0']) / mpl.ratio;\n",
       "    var x1 = msg['x1'] / mpl.ratio;\n",
       "    var y1 = (fig.canvas.height - msg['y1']) / mpl.ratio;\n",
       "    x0 = Math.floor(x0) + 0.5;\n",
       "    y0 = Math.floor(y0) + 0.5;\n",
       "    x1 = Math.floor(x1) + 0.5;\n",
       "    y1 = Math.floor(y1) + 0.5;\n",
       "    var min_x = Math.min(x0, x1);\n",
       "    var min_y = Math.min(y0, y1);\n",
       "    var width = Math.abs(x1 - x0);\n",
       "    var height = Math.abs(y1 - y0);\n",
       "\n",
       "    fig.rubberband_context.clearRect(\n",
       "        0, 0, fig.canvas.width / mpl.ratio, fig.canvas.height / mpl.ratio);\n",
       "\n",
       "    fig.rubberband_context.strokeRect(min_x, min_y, width, height);\n",
       "}\n",
       "\n",
       "mpl.figure.prototype.handle_figure_label = function(fig, msg) {\n",
       "    // Updates the figure title.\n",
       "    fig.header.textContent = msg['label'];\n",
       "}\n",
       "\n",
       "mpl.figure.prototype.handle_cursor = function(fig, msg) {\n",
       "    var cursor = msg['cursor'];\n",
       "    switch(cursor)\n",
       "    {\n",
       "    case 0:\n",
       "        cursor = 'pointer';\n",
       "        break;\n",
       "    case 1:\n",
       "        cursor = 'default';\n",
       "        break;\n",
       "    case 2:\n",
       "        cursor = 'crosshair';\n",
       "        break;\n",
       "    case 3:\n",
       "        cursor = 'move';\n",
       "        break;\n",
       "    }\n",
       "    fig.rubberband_canvas.style.cursor = cursor;\n",
       "}\n",
       "\n",
       "mpl.figure.prototype.handle_message = function(fig, msg) {\n",
       "    fig.message.textContent = msg['message'];\n",
       "}\n",
       "\n",
       "mpl.figure.prototype.handle_draw = function(fig, msg) {\n",
       "    // Request the server to send over a new figure.\n",
       "    fig.send_draw_message();\n",
       "}\n",
       "\n",
       "mpl.figure.prototype.handle_image_mode = function(fig, msg) {\n",
       "    fig.image_mode = msg['mode'];\n",
       "}\n",
       "\n",
       "mpl.figure.prototype.updated_canvas_event = function() {\n",
       "    // Called whenever the canvas gets updated.\n",
       "    this.send_message(\"ack\", {});\n",
       "}\n",
       "\n",
       "// A function to construct a web socket function for onmessage handling.\n",
       "// Called in the figure constructor.\n",
       "mpl.figure.prototype._make_on_message_function = function(fig) {\n",
       "    return function socket_on_message(evt) {\n",
       "        if (evt.data instanceof Blob) {\n",
       "            /* FIXME: We get \"Resource interpreted as Image but\n",
       "             * transferred with MIME type text/plain:\" errors on\n",
       "             * Chrome.  But how to set the MIME type?  It doesn't seem\n",
       "             * to be part of the websocket stream */\n",
       "            evt.data.type = \"image/png\";\n",
       "\n",
       "            /* Free the memory for the previous frames */\n",
       "            if (fig.imageObj.src) {\n",
       "                (window.URL || window.webkitURL).revokeObjectURL(\n",
       "                    fig.imageObj.src);\n",
       "            }\n",
       "\n",
       "            fig.imageObj.src = (window.URL || window.webkitURL).createObjectURL(\n",
       "                evt.data);\n",
       "            fig.updated_canvas_event();\n",
       "            fig.waiting = false;\n",
       "            return;\n",
       "        }\n",
       "        else if (typeof evt.data === 'string' && evt.data.slice(0, 21) == \"data:image/png;base64\") {\n",
       "            fig.imageObj.src = evt.data;\n",
       "            fig.updated_canvas_event();\n",
       "            fig.waiting = false;\n",
       "            return;\n",
       "        }\n",
       "\n",
       "        var msg = JSON.parse(evt.data);\n",
       "        var msg_type = msg['type'];\n",
       "\n",
       "        // Call the  \"handle_{type}\" callback, which takes\n",
       "        // the figure and JSON message as its only arguments.\n",
       "        try {\n",
       "            var callback = fig[\"handle_\" + msg_type];\n",
       "        } catch (e) {\n",
       "            console.log(\"No handler for the '\" + msg_type + \"' message type: \", msg);\n",
       "            return;\n",
       "        }\n",
       "\n",
       "        if (callback) {\n",
       "            try {\n",
       "                // console.log(\"Handling '\" + msg_type + \"' message: \", msg);\n",
       "                callback(fig, msg);\n",
       "            } catch (e) {\n",
       "                console.log(\"Exception inside the 'handler_\" + msg_type + \"' callback:\", e, e.stack, msg);\n",
       "            }\n",
       "        }\n",
       "    };\n",
       "}\n",
       "\n",
       "// from http://stackoverflow.com/questions/1114465/getting-mouse-location-in-canvas\n",
       "mpl.findpos = function(e) {\n",
       "    //this section is from http://www.quirksmode.org/js/events_properties.html\n",
       "    var targ;\n",
       "    if (!e)\n",
       "        e = window.event;\n",
       "    if (e.target)\n",
       "        targ = e.target;\n",
       "    else if (e.srcElement)\n",
       "        targ = e.srcElement;\n",
       "    if (targ.nodeType == 3) // defeat Safari bug\n",
       "        targ = targ.parentNode;\n",
       "\n",
       "    // jQuery normalizes the pageX and pageY\n",
       "    // pageX,Y are the mouse positions relative to the document\n",
       "    // offset() returns the position of the element relative to the document\n",
       "    var x = e.pageX - $(targ).offset().left;\n",
       "    var y = e.pageY - $(targ).offset().top;\n",
       "\n",
       "    return {\"x\": x, \"y\": y};\n",
       "};\n",
       "\n",
       "/*\n",
       " * return a copy of an object with only non-object keys\n",
       " * we need this to avoid circular references\n",
       " * http://stackoverflow.com/a/24161582/3208463\n",
       " */\n",
       "function simpleKeys (original) {\n",
       "  return Object.keys(original).reduce(function (obj, key) {\n",
       "    if (typeof original[key] !== 'object')\n",
       "        obj[key] = original[key]\n",
       "    return obj;\n",
       "  }, {});\n",
       "}\n",
       "\n",
       "mpl.figure.prototype.mouse_event = function(event, name) {\n",
       "    var canvas_pos = mpl.findpos(event)\n",
       "\n",
       "    if (name === 'button_press')\n",
       "    {\n",
       "        this.canvas.focus();\n",
       "        this.canvas_div.focus();\n",
       "    }\n",
       "\n",
       "    var x = canvas_pos.x * mpl.ratio;\n",
       "    var y = canvas_pos.y * mpl.ratio;\n",
       "\n",
       "    this.send_message(name, {x: x, y: y, button: event.button,\n",
       "                             step: event.step,\n",
       "                             guiEvent: simpleKeys(event)});\n",
       "\n",
       "    /* This prevents the web browser from automatically changing to\n",
       "     * the text insertion cursor when the button is pressed.  We want\n",
       "     * to control all of the cursor setting manually through the\n",
       "     * 'cursor' event from matplotlib */\n",
       "    event.preventDefault();\n",
       "    return false;\n",
       "}\n",
       "\n",
       "mpl.figure.prototype._key_event_extra = function(event, name) {\n",
       "    // Handle any extra behaviour associated with a key event\n",
       "}\n",
       "\n",
       "mpl.figure.prototype.key_event = function(event, name) {\n",
       "\n",
       "    // Prevent repeat events\n",
       "    if (name == 'key_press')\n",
       "    {\n",
       "        if (event.which === this._key)\n",
       "            return;\n",
       "        else\n",
       "            this._key = event.which;\n",
       "    }\n",
       "    if (name == 'key_release')\n",
       "        this._key = null;\n",
       "\n",
       "    var value = '';\n",
       "    if (event.ctrlKey && event.which != 17)\n",
       "        value += \"ctrl+\";\n",
       "    if (event.altKey && event.which != 18)\n",
       "        value += \"alt+\";\n",
       "    if (event.shiftKey && event.which != 16)\n",
       "        value += \"shift+\";\n",
       "\n",
       "    value += 'k';\n",
       "    value += event.which.toString();\n",
       "\n",
       "    this._key_event_extra(event, name);\n",
       "\n",
       "    this.send_message(name, {key: value,\n",
       "                             guiEvent: simpleKeys(event)});\n",
       "    return false;\n",
       "}\n",
       "\n",
       "mpl.figure.prototype.toolbar_button_onclick = function(name) {\n",
       "    if (name == 'download') {\n",
       "        this.handle_save(this, null);\n",
       "    } else {\n",
       "        this.send_message(\"toolbar_button\", {name: name});\n",
       "    }\n",
       "};\n",
       "\n",
       "mpl.figure.prototype.toolbar_button_onmouseover = function(tooltip) {\n",
       "    this.message.textContent = tooltip;\n",
       "};\n",
       "mpl.toolbar_items = [[\"Home\", \"Reset original view\", \"fa fa-home icon-home\", \"home\"], [\"Back\", \"Back to previous view\", \"fa fa-arrow-left icon-arrow-left\", \"back\"], [\"Forward\", \"Forward to next view\", \"fa fa-arrow-right icon-arrow-right\", \"forward\"], [\"\", \"\", \"\", \"\"], [\"Pan\", \"Pan axes with left mouse, zoom with right\", \"fa fa-arrows icon-move\", \"pan\"], [\"Zoom\", \"Zoom to rectangle\", \"fa fa-square-o icon-check-empty\", \"zoom\"], [\"\", \"\", \"\", \"\"], [\"Download\", \"Download plot\", \"fa fa-floppy-o icon-save\", \"download\"]];\n",
       "\n",
       "mpl.extensions = [\"eps\", \"jpeg\", \"pdf\", \"png\", \"ps\", \"raw\", \"svg\", \"tif\"];\n",
       "\n",
       "mpl.default_extension = \"png\";var comm_websocket_adapter = function(comm) {\n",
       "    // Create a \"websocket\"-like object which calls the given IPython comm\n",
       "    // object with the appropriate methods. Currently this is a non binary\n",
       "    // socket, so there is still some room for performance tuning.\n",
       "    var ws = {};\n",
       "\n",
       "    ws.close = function() {\n",
       "        comm.close()\n",
       "    };\n",
       "    ws.send = function(m) {\n",
       "        //console.log('sending', m);\n",
       "        comm.send(m);\n",
       "    };\n",
       "    // Register the callback with on_msg.\n",
       "    comm.on_msg(function(msg) {\n",
       "        //console.log('receiving', msg['content']['data'], msg);\n",
       "        // Pass the mpl event to the overridden (by mpl) onmessage function.\n",
       "        ws.onmessage(msg['content']['data'])\n",
       "    });\n",
       "    return ws;\n",
       "}\n",
       "\n",
       "mpl.mpl_figure_comm = function(comm, msg) {\n",
       "    // This is the function which gets called when the mpl process\n",
       "    // starts-up an IPython Comm through the \"matplotlib\" channel.\n",
       "\n",
       "    var id = msg.content.data.id;\n",
       "    // Get hold of the div created by the display call when the Comm\n",
       "    // socket was opened in Python.\n",
       "    var element = $(\"#\" + id);\n",
       "    var ws_proxy = comm_websocket_adapter(comm)\n",
       "\n",
       "    function ondownload(figure, format) {\n",
       "        window.open(figure.imageObj.src);\n",
       "    }\n",
       "\n",
       "    var fig = new mpl.figure(id, ws_proxy,\n",
       "                           ondownload,\n",
       "                           element.get(0));\n",
       "\n",
       "    // Call onopen now - mpl needs it, as it is assuming we've passed it a real\n",
       "    // web socket which is closed, not our websocket->open comm proxy.\n",
       "    ws_proxy.onopen();\n",
       "\n",
       "    fig.parent_element = element.get(0);\n",
       "    fig.cell_info = mpl.find_output_cell(\"<div id='\" + id + \"'></div>\");\n",
       "    if (!fig.cell_info) {\n",
       "        console.error(\"Failed to find cell for figure\", id, fig);\n",
       "        return;\n",
       "    }\n",
       "\n",
       "    var output_index = fig.cell_info[2]\n",
       "    var cell = fig.cell_info[0];\n",
       "\n",
       "};\n",
       "\n",
       "mpl.figure.prototype.handle_close = function(fig, msg) {\n",
       "    var width = fig.canvas.width/mpl.ratio\n",
       "    fig.root.unbind('remove')\n",
       "\n",
       "    // Update the output cell to use the data from the current canvas.\n",
       "    fig.push_to_output();\n",
       "    var dataURL = fig.canvas.toDataURL();\n",
       "    // Re-enable the keyboard manager in IPython - without this line, in FF,\n",
       "    // the notebook keyboard shortcuts fail.\n",
       "    IPython.keyboard_manager.enable()\n",
       "    $(fig.parent_element).html('<img src=\"' + dataURL + '\" width=\"' + width + '\">');\n",
       "    fig.close_ws(fig, msg);\n",
       "}\n",
       "\n",
       "mpl.figure.prototype.close_ws = function(fig, msg){\n",
       "    fig.send_message('closing', msg);\n",
       "    // fig.ws.close()\n",
       "}\n",
       "\n",
       "mpl.figure.prototype.push_to_output = function(remove_interactive) {\n",
       "    // Turn the data on the canvas into data in the output cell.\n",
       "    var width = this.canvas.width/mpl.ratio\n",
       "    var dataURL = this.canvas.toDataURL();\n",
       "    this.cell_info[1]['text/html'] = '<img src=\"' + dataURL + '\" width=\"' + width + '\">';\n",
       "}\n",
       "\n",
       "mpl.figure.prototype.updated_canvas_event = function() {\n",
       "    // Tell IPython that the notebook contents must change.\n",
       "    IPython.notebook.set_dirty(true);\n",
       "    this.send_message(\"ack\", {});\n",
       "    var fig = this;\n",
       "    // Wait a second, then push the new image to the DOM so\n",
       "    // that it is saved nicely (might be nice to debounce this).\n",
       "    setTimeout(function () { fig.push_to_output() }, 1000);\n",
       "}\n",
       "\n",
       "mpl.figure.prototype._init_toolbar = function() {\n",
       "    var fig = this;\n",
       "\n",
       "    var nav_element = $('<div/>');\n",
       "    nav_element.attr('style', 'width: 100%');\n",
       "    this.root.append(nav_element);\n",
       "\n",
       "    // Define a callback function for later on.\n",
       "    function toolbar_event(event) {\n",
       "        return fig.toolbar_button_onclick(event['data']);\n",
       "    }\n",
       "    function toolbar_mouse_event(event) {\n",
       "        return fig.toolbar_button_onmouseover(event['data']);\n",
       "    }\n",
       "\n",
       "    for(var toolbar_ind in mpl.toolbar_items){\n",
       "        var name = mpl.toolbar_items[toolbar_ind][0];\n",
       "        var tooltip = mpl.toolbar_items[toolbar_ind][1];\n",
       "        var image = mpl.toolbar_items[toolbar_ind][2];\n",
       "        var method_name = mpl.toolbar_items[toolbar_ind][3];\n",
       "\n",
       "        if (!name) { continue; };\n",
       "\n",
       "        var button = $('<button class=\"btn btn-default\" href=\"#\" title=\"' + name + '\"><i class=\"fa ' + image + ' fa-lg\"></i></button>');\n",
       "        button.click(method_name, toolbar_event);\n",
       "        button.mouseover(tooltip, toolbar_mouse_event);\n",
       "        nav_element.append(button);\n",
       "    }\n",
       "\n",
       "    // Add the status bar.\n",
       "    var status_bar = $('<span class=\"mpl-message\" style=\"text-align:right; float: right;\"/>');\n",
       "    nav_element.append(status_bar);\n",
       "    this.message = status_bar[0];\n",
       "\n",
       "    // Add the close button to the window.\n",
       "    var buttongrp = $('<div class=\"btn-group inline pull-right\"></div>');\n",
       "    var button = $('<button class=\"btn btn-mini btn-primary\" href=\"#\" title=\"Stop Interaction\"><i class=\"fa fa-power-off icon-remove icon-large\"></i></button>');\n",
       "    button.click(function (evt) { fig.handle_close(fig, {}); } );\n",
       "    button.mouseover('Stop Interaction', toolbar_mouse_event);\n",
       "    buttongrp.append(button);\n",
       "    var titlebar = this.root.find($('.ui-dialog-titlebar'));\n",
       "    titlebar.prepend(buttongrp);\n",
       "}\n",
       "\n",
       "mpl.figure.prototype._root_extra_style = function(el){\n",
       "    var fig = this\n",
       "    el.on(\"remove\", function(){\n",
       "\tfig.close_ws(fig, {});\n",
       "    });\n",
       "}\n",
       "\n",
       "mpl.figure.prototype._canvas_extra_style = function(el){\n",
       "    // this is important to make the div 'focusable\n",
       "    el.attr('tabindex', 0)\n",
       "    // reach out to IPython and tell the keyboard manager to turn it's self\n",
       "    // off when our div gets focus\n",
       "\n",
       "    // location in version 3\n",
       "    if (IPython.notebook.keyboard_manager) {\n",
       "        IPython.notebook.keyboard_manager.register_events(el);\n",
       "    }\n",
       "    else {\n",
       "        // location in version 2\n",
       "        IPython.keyboard_manager.register_events(el);\n",
       "    }\n",
       "\n",
       "}\n",
       "\n",
       "mpl.figure.prototype._key_event_extra = function(event, name) {\n",
       "    var manager = IPython.notebook.keyboard_manager;\n",
       "    if (!manager)\n",
       "        manager = IPython.keyboard_manager;\n",
       "\n",
       "    // Check for shift+enter\n",
       "    if (event.shiftKey && event.which == 13) {\n",
       "        this.canvas_div.blur();\n",
       "        // select the cell after this one\n",
       "        var index = IPython.notebook.find_cell_index(this.cell_info[0]);\n",
       "        IPython.notebook.select(index + 1);\n",
       "    }\n",
       "}\n",
       "\n",
       "mpl.figure.prototype.handle_save = function(fig, msg) {\n",
       "    fig.ondownload(fig, null);\n",
       "}\n",
       "\n",
       "\n",
       "mpl.find_output_cell = function(html_output) {\n",
       "    // Return the cell and output element which can be found *uniquely* in the notebook.\n",
       "    // Note - this is a bit hacky, but it is done because the \"notebook_saving.Notebook\"\n",
       "    // IPython event is triggered only after the cells have been serialised, which for\n",
       "    // our purposes (turning an active figure into a static one), is too late.\n",
       "    var cells = IPython.notebook.get_cells();\n",
       "    var ncells = cells.length;\n",
       "    for (var i=0; i<ncells; i++) {\n",
       "        var cell = cells[i];\n",
       "        if (cell.cell_type === 'code'){\n",
       "            for (var j=0; j<cell.output_area.outputs.length; j++) {\n",
       "                var data = cell.output_area.outputs[j];\n",
       "                if (data.data) {\n",
       "                    // IPython >= 3 moved mimebundle to data attribute of output\n",
       "                    data = data.data;\n",
       "                }\n",
       "                if (data['text/html'] == html_output) {\n",
       "                    return [cell, data, j];\n",
       "                }\n",
       "            }\n",
       "        }\n",
       "    }\n",
       "}\n",
       "\n",
       "// Register the function which deals with the matplotlib target/channel.\n",
       "// The kernel may be null if the page has been refreshed.\n",
       "if (IPython.notebook.kernel != null) {\n",
       "    IPython.notebook.kernel.comm_manager.register_target('matplotlib', mpl.mpl_figure_comm);\n",
       "}\n"
      ],
      "text/plain": [
       "<IPython.core.display.Javascript object>"
      ]
     },
     "metadata": {},
     "output_type": "display_data"
    },
    {
     "data": {
      "text/html": [
       "<img src=\"data:image/png;base64,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\" width=\"700\">"
      ],
      "text/plain": [
       "<IPython.core.display.HTML object>"
      ]
     },
     "metadata": {},
     "output_type": "display_data"
    }
   ],
   "source": [
    "%matplotlib notebook\n",
    "#%matplotlib ipympl\n",
    "import matplotlib.pyplot as plt\n",
    "fig, ax = plt.subplots(figsize=(7, 4), tight_layout=True)\n",
    "ax.matshow(FRACTAL, cmap=plt.cm.gnuplot);"
   ]
  },
  {
   "cell_type": "code",
   "execution_count": null,
   "metadata": {},
   "outputs": [],
   "source": []
  }
 ],
 "metadata": {
  "kernelspec": {
   "display_name": "Python 3",
   "language": "python",
   "name": "python3"
  },
  "language_info": {
   "codemirror_mode": {
    "name": "ipython",
    "version": 3
   },
   "file_extension": ".py",
   "mimetype": "text/x-python",
   "name": "python",
   "nbconvert_exporter": "python",
   "pygments_lexer": "ipython3",
   "version": "3.7.6"
  }
 },
 "nbformat": 4,
 "nbformat_minor": 5
}
