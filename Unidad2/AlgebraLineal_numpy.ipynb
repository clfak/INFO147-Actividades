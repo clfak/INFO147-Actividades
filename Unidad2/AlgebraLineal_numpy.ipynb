{
 "cells": [
  {
   "cell_type": "code",
   "execution_count": 3,
   "metadata": {},
   "outputs": [],
   "source": [
    "#%matplotlib notebook\n",
    "%matplotlib ipympl\n",
    "import matplotlib.pyplot as plt\n",
    "import numpy as np\n",
    "import pandas as pd"
   ]
  },
  {
   "cell_type": "markdown",
   "metadata": {},
   "source": [
    "# Algebra lineal con NumPy"
   ]
  },
  {
   "cell_type": "markdown",
   "metadata": {},
   "source": [
    "### Sistema de ecuaciones cuadrado (Caso $N=M$)"
   ]
  },
  {
   "cell_type": "markdown",
   "metadata": {},
   "source": [
    "### Ejercicio práctico\n",
    "\n",
    "Sea el sistema de ecuaciones\n",
    "\n",
    "$$\n",
    "\\begin{align}\n",
    "-x_{1} + 5 x_{2} &= 2 \\nonumber \\\\\n",
    "2 x_{1} + 3 x_{2} &= 1  \\nonumber \n",
    "\\end{align}\n",
    "$$\n"
   ]
  },
  {
   "cell_type": "markdown",
   "metadata": {},
   "source": [
    "1. ¿Cuántas ecuaciones e incógnitas tiene este sistema? ¿Es este un sistema cuadrado?\n",
    "\n",
    "   **R:** El sistema tiene dos ecuaciones, con dos incógnitas. El sistema es cuadrado."
   ]
  },
  {
   "cell_type": "markdown",
   "metadata": {},
   "source": [
    "2. Escriba $A$, $b$  y compruebe si $A$ es invertible (determinante y rango)"
   ]
  },
  {
   "cell_type": "code",
   "execution_count": 4,
   "metadata": {},
   "outputs": [
    {
     "output_type": "stream",
     "name": "stdout",
     "text": [
      "Determinate A: -13.0 \nRango A: 2\n"
     ]
    }
   ],
   "source": [
    "A = np.array([[-1. , 5.], [2., 3.]])\n",
    "b = np.array([2., 1.])\n",
    "\n",
    "assert not np.linalg.det(A)==0 ,\"Determinante igual a 0\" \n",
    "assert np.linalg.matrix_rank(A)== A.shape[1], \"Columnas no son LI\"\n",
    "detA = np.linalg.det(A)\n",
    "rangA = np.linalg.matrix_rank(A)\n",
    "print('Determinate A:', detA, '\\nRango A:', rangA)"
   ]
  },
  {
   "cell_type": "markdown",
   "metadata": {},
   "source": [
    "3. Encuentre la inversa de $A$ y usela para calcular $x$"
   ]
  },
  {
   "cell_type": "code",
   "execution_count": 5,
   "metadata": {},
   "outputs": [
    {
     "output_type": "stream",
     "name": "stdout",
     "text": [
      "x = [-0.07692308  0.38461538]\n"
     ]
    }
   ],
   "source": [
    "invA = np.linalg.inv(A)\n",
    "x = np.dot(invA,b)\n",
    "print('x =',x)"
   ]
  },
  {
   "cell_type": "markdown",
   "metadata": {},
   "source": [
    "4. (Extra) Represente geometricamente el sistema y encuentra la solución de forma gráfica"
   ]
  },
  {
   "cell_type": "code",
   "execution_count": 6,
   "metadata": {},
   "outputs": [
    {
     "output_type": "display_data",
     "data": {
      "text/plain": "Canvas(toolbar=Toolbar(toolitems=[('Home', 'Reset original view', 'home', 'home'), ('Back', 'Back to previous …",
      "application/vnd.jupyter.widget-view+json": {
       "version_major": 2,
       "version_minor": 0,
       "model_id": "dc166781fd884219b09ca2b6c6ce9c2d"
      }
     },
     "metadata": {}
    }
   ],
   "source": [
    "def graf(A,b):\n",
    "    fig, ax = plt.subplots(figsize =(5,3),tight_layout = True)\n",
    "    x1 = np.linspace(-2, 2, num=100)\n",
    "    ax.plot(x1, (b[0]-A[0,0]*x1)/A[0,1],label='Ec1',c='m')\n",
    "    ax.plot(x1, (b[1]-A[1,0]*x1)/A[1,1],label='Ec2',c='c')\n",
    "    plt.legend();\n",
    "graf(A,b)"
   ]
  },
  {
   "cell_type": "markdown",
   "metadata": {},
   "source": [
    "Repita para los sistemas\n",
    "\n",
    "$$\n",
    "\\begin{align}\n",
    "x_{1} + 5 x_{2} &= 2 \\nonumber \\\\\n",
    "2 x_{1} + 10 x_{2} &= 6  \\nonumber \n",
    "\\end{align}\n",
    "$$\n",
    "\n",
    "y\n",
    "\n",
    "$$\n",
    "\\begin{align}\n",
    "x_{1} + 5 x_{2} &= 2 \\nonumber \\\\\n",
    "2 x_{1} + 10 x_{2} &= 4  \\nonumber \n",
    "\\end{align}\n",
    "$$\n",
    "\n",
    "¿Qué puede decir de estos sistemas?"
   ]
  },
  {
   "cell_type": "code",
   "execution_count": 7,
   "metadata": {},
   "outputs": [],
   "source": [
    "def sol_x(A,b):\n",
    "    assert not np.linalg.det(A)==0 ,\"Determinante igual a 0\" \n",
    "    assert np.linalg.matrix_rank(A)== A.shape[1], \"Columnas no son LI\"\n",
    "    detA = np.linalg.det(A)\n",
    "    rangA = np.linalg.matrix_rank(A)\n",
    "    print('Determinate A:', detA, '\\nRango A:', rangA)\n",
    "    invA = np.linalg.inv(A)\n",
    "    x = np.dot(invA,b)\n",
    "    print('x =',x)\n",
    "    return x"
   ]
  },
  {
   "cell_type": "code",
   "execution_count": 8,
   "metadata": {},
   "outputs": [
    {
     "output_type": "display_data",
     "data": {
      "text/plain": "Canvas(toolbar=Toolbar(toolitems=[('Home', 'Reset original view', 'home', 'home'), ('Back', 'Back to previous …",
      "application/vnd.jupyter.widget-view+json": {
       "version_major": 2,
       "version_minor": 0,
       "model_id": "96f6868add004b50abddd6c808263c93"
      }
     },
     "metadata": {}
    }
   ],
   "source": [
    "A = np.array([[1.,5.],[2.,10.]])\n",
    "b = np.array([2.,6.])\n",
    "#sol_x(A,b)\n",
    "graf(A,b)"
   ]
  },
  {
   "cell_type": "markdown",
   "metadata": {},
   "source": [
    "    El sistema no tiene solución(Rectas paralelas)."
   ]
  },
  {
   "cell_type": "code",
   "execution_count": 9,
   "metadata": {},
   "outputs": [
    {
     "output_type": "display_data",
     "data": {
      "text/plain": "Canvas(toolbar=Toolbar(toolitems=[('Home', 'Reset original view', 'home', 'home'), ('Back', 'Back to previous …",
      "application/vnd.jupyter.widget-view+json": {
       "version_major": 2,
       "version_minor": 0,
       "model_id": "dd41b32c822e4f6b900ea7debbdc5113"
      }
     },
     "metadata": {}
    }
   ],
   "source": [
    "A = np.array([[1., 5.],[2.,10.]])\n",
    "b = np.array([2.,4.]) \n",
    "#sol_x(A,b)\n",
    "graf(A,b)"
   ]
  },
  {
   "cell_type": "markdown",
   "metadata": {},
   "source": [
    "    El sistema no es LI, no tiene solución(hay solo una ecuacuón)."
   ]
  },
  {
   "cell_type": "markdown",
   "metadata": {},
   "source": [
    "-----"
   ]
  },
  {
   "cell_type": "markdown",
   "metadata": {},
   "source": [
    "### Ejercicio práctico\n",
    "\n",
    "Encuentre los parámetros de la **ecuación de la recta** que ajuste mejor los datos \n",
    "\n",
    "$$\n",
    "\\text{consumo} = \\theta_1 \\cdot \\text{temperatura} + \\theta_0\n",
    "$$\n",
    "\n",
    "- Identifique y construya el vector $b$ y la matriz $A$ ¿Cuánto vale $N$ y $M$?\n",
    "- ¿Es este un sistema cuadrado o rectangular? ¿ Es sobre o infra-determinado?\n",
    "- Encuentre $\\theta_0$ y $\\theta_1$ que minimiza la suma de errores cuadráticos\n",
    "- Grafique la recta encontrada usando `matplotlib`"
   ]
  },
  {
   "cell_type": "code",
   "execution_count": 11,
   "metadata": {},
   "outputs": [
    {
     "output_type": "display_data",
     "data": {
      "text/plain": "    cons  income  price  temp\n1  0.386      78  0.270    41\n2  0.374      79  0.282    56\n3  0.393      81  0.277    63\n4  0.425      80  0.280    68\n5  0.406      76  0.272    69",
      "text/html": "<div>\n<style scoped>\n    .dataframe tbody tr th:only-of-type {\n        vertical-align: middle;\n    }\n\n    .dataframe tbody tr th {\n        vertical-align: top;\n    }\n\n    .dataframe thead th {\n        text-align: right;\n    }\n</style>\n<table border=\"1\" class=\"dataframe\">\n  <thead>\n    <tr style=\"text-align: right;\">\n      <th></th>\n      <th>cons</th>\n      <th>income</th>\n      <th>price</th>\n      <th>temp</th>\n    </tr>\n  </thead>\n  <tbody>\n    <tr>\n      <th>1</th>\n      <td>0.386</td>\n      <td>78</td>\n      <td>0.270</td>\n      <td>41</td>\n    </tr>\n    <tr>\n      <th>2</th>\n      <td>0.374</td>\n      <td>79</td>\n      <td>0.282</td>\n      <td>56</td>\n    </tr>\n    <tr>\n      <th>3</th>\n      <td>0.393</td>\n      <td>81</td>\n      <td>0.277</td>\n      <td>63</td>\n    </tr>\n    <tr>\n      <th>4</th>\n      <td>0.425</td>\n      <td>80</td>\n      <td>0.280</td>\n      <td>68</td>\n    </tr>\n    <tr>\n      <th>5</th>\n      <td>0.406</td>\n      <td>76</td>\n      <td>0.272</td>\n      <td>69</td>\n    </tr>\n  </tbody>\n</table>\n</div>"
     },
     "metadata": {}
    }
   ],
   "source": [
    "df = pd.read_csv('data/helados.csv', index_col=0)\n",
    "display(df.head())"
   ]
  },
  {
   "source": [
    "- Identifique y construya el vector $b$ y la matriz $A$ ¿Cuánto vale $N$ y $M$?"
   ],
   "cell_type": "markdown",
   "metadata": {}
  },
  {
   "cell_type": "code",
   "execution_count": 27,
   "metadata": {},
   "outputs": [
    {
     "output_type": "display_data",
     "data": {
      "text/plain": "array([0.386, 0.374, 0.393, 0.425, 0.406, 0.344, 0.327, 0.288, 0.269,\n       0.256, 0.286, 0.298, 0.329, 0.318, 0.381, 0.381, 0.47 , 0.443,\n       0.386, 0.342, 0.319, 0.307, 0.284, 0.326, 0.309, 0.359, 0.376,\n       0.416, 0.437, 0.548])"
     },
     "metadata": {}
    },
    {
     "output_type": "display_data",
     "data": {
      "text/plain": "array([[ 1., 41.],\n       [ 1., 56.],\n       [ 1., 63.],\n       [ 1., 68.],\n       [ 1., 69.],\n       [ 1., 65.],\n       [ 1., 61.],\n       [ 1., 47.],\n       [ 1., 32.],\n       [ 1., 24.],\n       [ 1., 28.],\n       [ 1., 26.],\n       [ 1., 32.],\n       [ 1., 40.],\n       [ 1., 55.],\n       [ 1., 63.],\n       [ 1., 72.],\n       [ 1., 72.],\n       [ 1., 67.],\n       [ 1., 60.],\n       [ 1., 44.],\n       [ 1., 40.],\n       [ 1., 32.],\n       [ 1., 27.],\n       [ 1., 28.],\n       [ 1., 33.],\n       [ 1., 41.],\n       [ 1., 52.],\n       [ 1., 64.],\n       [ 1., 71.]])"
     },
     "metadata": {}
    }
   ],
   "source": [
    "b = df['cons'].values\n",
    "A = np.ones(shape=(len(b),2))\n",
    "A[:,1]=df['temp'].values\n",
    "display(b, A)"
   ]
  },
  {
   "source": [
    "- ¿Es este un sistema cuadrado o rectangular? ¿ Es sobre o infra-determinado?\n",
    "\n",
    "            Sistema rectangular sobredeterminado, tiene más ecuaciones que incógnitas."
   ],
   "cell_type": "markdown",
   "metadata": {}
  },
  {
   "source": [
    "- Encuentre $\\theta_0$ y $\\theta_1$ que minimiza la suma de errores cuadráticos\n"
   ],
   "cell_type": "markdown",
   "metadata": {}
  },
  {
   "cell_type": "code",
   "execution_count": 29,
   "metadata": {},
   "outputs": [
    {
     "output_type": "display_data",
     "data": {
      "text/plain": "array([0.20686215, 0.00310736])"
     },
     "metadata": {}
    }
   ],
   "source": [
    "theta = np.linalg.lstsq(A,b, rcond=None)[0]\n",
    "display(theta)"
   ]
  },
  {
   "source": [
    "- Grafique la recta encontrada usando `matplotlib`"
   ],
   "cell_type": "markdown",
   "metadata": {}
  },
  {
   "cell_type": "code",
   "execution_count": 55,
   "metadata": {},
   "outputs": [
    {
     "output_type": "display_data",
     "data": {
      "text/plain": "Canvas(toolbar=Toolbar(toolitems=[('Home', 'Reset original view', 'home', 'home'), ('Back', 'Back to previous …",
      "application/vnd.jupyter.widget-view+json": {
       "version_major": 2,
       "version_minor": 0,
       "model_id": "8c92a0d238684456a87c7717927100e9"
      }
     },
     "metadata": {}
    }
   ],
   "source": [
    "fig, ax = plt.subplots(figsize=(5,3),tight_layout=True)\n",
    "ax.scatter(df['temp'], df['cons'], c='m', label='data')\n",
    "#vector de temperaturas:desde  temperatura minima y hasta temp maxima\n",
    "t_plot = np.linspace(np.amin(A[:,1]), np.amax(A[:,1]),num=100)\n",
    "ax.plot(t_plot,theta[0]+theta[1]*t_plot, 'k-', lw=2, label='modelo')\n",
    "plt.legend();"
   ]
  }
 ],
 "metadata": {
  "kernelspec": {
   "name": "python3710jvsc74a57bd0b4f7dfec028b864f3ff09fc61775d0b1cbab0fd1432d1833a5738f0b1d6ff453",
   "display_name": "Python 3.7.10 64-bit ('info147': conda)"
  },
  "language_info": {
   "codemirror_mode": {
    "name": "ipython",
    "version": 3
   },
   "file_extension": ".py",
   "mimetype": "text/x-python",
   "name": "python",
   "nbconvert_exporter": "python",
   "pygments_lexer": "ipython3",
   "version": "3.7.10"
  },
  "metadata": {
   "interpreter": {
    "hash": "31f2aee4e71d21fbe5cf8b01ff0e069b9275f58929596ceb00d14d90e3e16cd6"
   }
  }
 },
 "nbformat": 4,
 "nbformat_minor": 2
}